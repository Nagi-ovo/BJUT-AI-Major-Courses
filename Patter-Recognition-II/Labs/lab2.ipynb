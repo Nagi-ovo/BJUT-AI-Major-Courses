{
 "cells": [
  {
   "cell_type": "code",
   "execution_count": 8,
   "metadata": {},
   "outputs": [
    {
     "name": "stderr",
     "output_type": "stream",
     "text": [
      "/opt/homebrew/Caskroom/miniconda/base/envs/datasci/lib/python3.9/site-packages/sklearn/datasets/_openml.py:1002: FutureWarning: The default value of `parser` will change from `'liac-arff'` to `'auto'` in 1.4. You can set `parser='auto'` to silence this warning. Therefore, an `ImportError` will be raised from 1.4 if the dataset is dense and pandas is not installed. Note that the pandas parser may return different data types. See the Notes Section in fetch_openml's API doc for details.\n",
      "  warn(\n"
     ]
    },
    {
     "name": "stdout",
     "output_type": "stream",
     "text": [
      "Log densities of first 10 training samples: [-1592.76194419 -1592.76194419 -1592.76194419 -1592.76194419\n",
      " -1592.76194419 -1592.76194419 -1592.76194419 -1592.76194419\n",
      " -1592.76194419 -1592.76194419]\n",
      "KNN Accuracy : 0.9705\n"
     ]
    }
   ],
   "source": [
    "import numpy as np\n",
    "from sklearn import datasets\n",
    "from sklearn.neighbors import KernelDensity, KNeighborsClassifier\n",
    "from sklearn.metrics import accuracy_score\n",
    "import matplotlib.pyplot as plt\n",
    "import seaborn as sns\n",
    "import pandas as pd\n",
    "\n",
    "data = datasets.fetch_openml('mnist_784', version=1, return_X_y=True)\n",
    "pixel_values, targets = data\n",
    "targets = targets.astype(int)\n",
    "\n",
    "# 划分训练集和测试集\n",
    "X_train = pixel_values.to_numpy()[:60000, :]\n",
    "y_train = targets[:60000]\n",
    "X_test = pixel_values.to_numpy()[60000:, :]\n",
    "y_test = targets[60000:]\n",
    "\n",
    "# Parzen窗估计 \n",
    "kde = KernelDensity(kernel='gaussian', bandwidth=3.0).fit(X_train)\n",
    "log_densities = kde.score_samples(X_train[:10, :])  # 这里只是计算训练数据前10个样本的log密度，仅为示例\n",
    "print(\"Log densities of first 10 training samples:\", log_densities)\n",
    "\n",
    "# KNN分类\n",
    "knn = KNeighborsClassifier(n_neighbors=3)\n",
    "knn.fit(X_train, y_train)\n",
    "y_pred = knn.predict(X_test[:10000, :]) \n",
    "accuracy = accuracy_score(y_test[:10000], y_pred)\n",
    "print(f\"KNN Accuracy : {accuracy:.4f}\")"
   ]
  }
 ],
 "metadata": {
  "kernelspec": {
   "display_name": "datasci",
   "language": "python",
   "name": "python3"
  },
  "language_info": {
   "codemirror_mode": {
    "name": "ipython",
    "version": 3
   },
   "file_extension": ".py",
   "mimetype": "text/x-python",
   "name": "python",
   "nbconvert_exporter": "python",
   "pygments_lexer": "ipython3",
   "version": "3.9.18"
  },
  "orig_nbformat": 4
 },
 "nbformat": 4,
 "nbformat_minor": 2
}
