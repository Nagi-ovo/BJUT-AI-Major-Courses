{
  "cells": [
    {
      "cell_type": "code",
      "execution_count": 1,
      "metadata": {
        "colab": {
          "base_uri": "https://localhost:8080/"
        },
        "id": "7L-dv_Sl9TOa",
        "outputId": "7e92241c-ee3f-4803-fd3b-9617f0f0950e"
      },
      "outputs": [
        {
          "name": "stderr",
          "output_type": "stream",
          "text": [
            "/var/folders/lj/lmb91jvd0zb9d59rd05y9xhw0000gn/T/ipykernel_2023/962963114.py:3: DeprecationWarning: Please use `shift` from the `scipy.ndimage` namespace, the `scipy.ndimage.interpolation` namespace is deprecated.\n",
            "  from scipy.ndimage.interpolation import shift\n"
          ]
        }
      ],
      "source": [
        "import numpy as np\n",
        "from sklearn.datasets import fetch_openml\n",
        "from scipy.ndimage.interpolation import shift\n",
        "import xgboost as xgb\n",
        "from sklearn.metrics import accuracy_score\n",
        "import matplotlib.pyplot as plt\n",
        "from tqdm import tqdm"
      ]
    },
    {
      "cell_type": "code",
      "execution_count": 2,
      "metadata": {
        "colab": {
          "base_uri": "https://localhost:8080/"
        },
        "id": "p_a56wS3vYKM",
        "outputId": "27e7d45e-7c02-4fd3-e8a4-bd75995c524f"
      },
      "outputs": [
        {
          "name": "stderr",
          "output_type": "stream",
          "text": [
            "/opt/homebrew/Caskroom/miniconda/base/envs/datasci/lib/python3.9/site-packages/sklearn/datasets/_openml.py:1002: FutureWarning: The default value of `parser` will change from `'liac-arff'` to `'auto'` in 1.4. You can set `parser='auto'` to silence this warning. Therefore, an `ImportError` will be raised from 1.4 if the dataset is dense and pandas is not installed. Note that the pandas parser may return different data types. See the Notes Section in fetch_openml's API doc for details.\n",
            "  warn(\n"
          ]
        }
      ],
      "source": [
        "mnist = fetch_openml('mnist_784', version=1)\n",
        "X, y = mnist[\"data\"], mnist[\"target\"]\n",
        "y = y.astype(np.uint8)\n",
        "X = np.array(X)\n",
        "\n",
        "X_train, X_test, y_train, y_test = X[:60000], X[60000:], y[:60000], y[60000:]"
      ]
    },
    {
      "cell_type": "code",
      "execution_count": 3,
      "metadata": {
        "colab": {
          "base_uri": "https://localhost:8080/"
        },
        "id": "0FjpJcI6LFKG",
        "outputId": "3a052f52-91a7-4618-af1b-65ac54d2d293"
      },
      "outputs": [
        {
          "name": "stdout",
          "output_type": "stream",
          "text": [
            "(10000, 784)\n"
          ]
        }
      ],
      "source": [
        "print(X_test.shape)"
      ]
    },
    {
      "cell_type": "code",
      "execution_count": 4,
      "metadata": {
        "id": "RoCbrAnYGSSB"
      },
      "outputs": [],
      "source": [
        "# 数据增强函数：对角、水平、垂直位移\n",
        "def shift_image(image, dx, dy):\n",
        "    image = image.reshape((28, 28))\n",
        "    shifted_image = shift(image, [dy, dx], cval=0, mode=\"constant\")\n",
        "    return shifted_image.reshape([-1])"
      ]
    },
    {
      "cell_type": "code",
      "execution_count": 5,
      "metadata": {
        "colab": {
          "base_uri": "https://localhost:8080/"
        },
        "id": "kRqTEOFKWMGQ",
        "outputId": "a36dbdd8-df88-4219-becf-fcff18646790"
      },
      "outputs": [
        {
          "name": "stdout",
          "output_type": "stream",
          "text": [
            "Creating Augmented Dataset...\n"
          ]
        },
        {
          "name": "stderr",
          "output_type": "stream",
          "text": [
            "Applying horizontal and vertical shifts: 100%|██████████| 4/4 [00:16<00:00,  4.17s/it]\n",
            "Applying diagonal shifts: 100%|██████████| 4/4 [00:15<00:00,  4.00s/it]\n"
          ]
        },
        {
          "name": "stdout",
          "output_type": "stream",
          "text": [
            "Creating Augmented Dataset completed\n"
          ]
        }
      ],
      "source": [
        "print(\"Creating Augmented Dataset...\")\n",
        "\n",
        "# 初始化增强数据集\n",
        "X_train_augmented = [image for image in X_train]\n",
        "y_train_augmented = [label for label in y_train]\n",
        "\n",
        "# 应用水平和垂直位移\n",
        "for dx, dy in tqdm(((1, 0), (-1, 0), (0, 1), (0, -1)), desc=\"Applying horizontal and vertical shifts\"):\n",
        "    for image, label in zip(X_train, y_train):\n",
        "        X_train_augmented.append(shift_image(image, dx, dy))\n",
        "        y_train_augmented.append(label)\n",
        "\n",
        "# 应用对角线位移\n",
        "for dx, dy in tqdm([(1, 1), (-1, -1), (1, -1), (-1, 1)], desc=\"Applying diagonal shifts\"):\n",
        "    for image, label in zip(X_train, y_train):\n",
        "        X_train_augmented.append(shift_image(image, dx, dy))\n",
        "        y_train_augmented.append(label)\n",
        "\n",
        "# 打乱增强数据集\n",
        "shuffle_idx = np.random.permutation(len(X_train_augmented))\n",
        "X_train_augmented = np.array(X_train_augmented)[shuffle_idx]\n",
        "y_train_augmented = np.array(y_train_augmented)[shuffle_idx]\n",
        "\n",
        "print(\"Creating Augmented Dataset completed\")"
      ]
    },
    {
      "cell_type": "code",
      "execution_count": 6,
      "metadata": {
        "colab": {
          "base_uri": "https://localhost:8080/"
        },
        "id": "b0UdZ3V1_QG_",
        "outputId": "748c7519-1de0-4a9b-df26-df55fdfc6a82"
      },
      "outputs": [
        {
          "name": "stdout",
          "output_type": "stream",
          "text": [
            "Training XGBoost model...\n"
          ]
        },
        {
          "name": "stderr",
          "output_type": "stream",
          "text": [
            "/opt/homebrew/Caskroom/miniconda/base/envs/datasci/lib/python3.9/site-packages/xgboost/sklearn.py:889: UserWarning: `eval_metric` in `fit` method is deprecated for better compatibility with scikit-learn, use `eval_metric` in constructor or`set_params` instead.\n",
            "  warnings.warn(\n",
            "/opt/homebrew/Caskroom/miniconda/base/envs/datasci/lib/python3.9/site-packages/xgboost/sklearn.py:889: UserWarning: `early_stopping_rounds` in `fit` method is deprecated for better compatibility with scikit-learn, use `early_stopping_rounds` in constructor or`set_params` instead.\n",
            "  warnings.warn(\n"
          ]
        },
        {
          "name": "stdout",
          "output_type": "stream",
          "text": [
            "[0]\tvalidation_0-mlogloss:1.47033\n",
            "[1]\tvalidation_0-mlogloss:1.15243\n",
            "[2]\tvalidation_0-mlogloss:0.94140\n",
            "[3]\tvalidation_0-mlogloss:0.79210\n",
            "[4]\tvalidation_0-mlogloss:0.67744\n",
            "[5]\tvalidation_0-mlogloss:0.58644\n",
            "[6]\tvalidation_0-mlogloss:0.51597\n",
            "[7]\tvalidation_0-mlogloss:0.45912\n",
            "[8]\tvalidation_0-mlogloss:0.41017\n",
            "[9]\tvalidation_0-mlogloss:0.36911\n",
            "[10]\tvalidation_0-mlogloss:0.33536\n",
            "[11]\tvalidation_0-mlogloss:0.30646\n",
            "[12]\tvalidation_0-mlogloss:0.28288\n",
            "[13]\tvalidation_0-mlogloss:0.26356\n",
            "[14]\tvalidation_0-mlogloss:0.24624\n",
            "[15]\tvalidation_0-mlogloss:0.23346\n",
            "[16]\tvalidation_0-mlogloss:0.22041\n",
            "[17]\tvalidation_0-mlogloss:0.20838\n",
            "[18]\tvalidation_0-mlogloss:0.19788\n",
            "[19]\tvalidation_0-mlogloss:0.19007\n",
            "[20]\tvalidation_0-mlogloss:0.18317\n",
            "[21]\tvalidation_0-mlogloss:0.17540\n",
            "[22]\tvalidation_0-mlogloss:0.16947\n",
            "[23]\tvalidation_0-mlogloss:0.16332\n",
            "[24]\tvalidation_0-mlogloss:0.15712\n",
            "[25]\tvalidation_0-mlogloss:0.15300\n",
            "[26]\tvalidation_0-mlogloss:0.14757\n",
            "[27]\tvalidation_0-mlogloss:0.14345\n",
            "[28]\tvalidation_0-mlogloss:0.13832\n",
            "[29]\tvalidation_0-mlogloss:0.13376\n",
            "[30]\tvalidation_0-mlogloss:0.13025\n",
            "[31]\tvalidation_0-mlogloss:0.12672\n",
            "[32]\tvalidation_0-mlogloss:0.12422\n",
            "[33]\tvalidation_0-mlogloss:0.12176\n",
            "[34]\tvalidation_0-mlogloss:0.11867\n",
            "[35]\tvalidation_0-mlogloss:0.11598\n",
            "[36]\tvalidation_0-mlogloss:0.11421\n",
            "[37]\tvalidation_0-mlogloss:0.11203\n",
            "[38]\tvalidation_0-mlogloss:0.10941\n",
            "[39]\tvalidation_0-mlogloss:0.10792\n",
            "[40]\tvalidation_0-mlogloss:0.10644\n",
            "[41]\tvalidation_0-mlogloss:0.10454\n",
            "[42]\tvalidation_0-mlogloss:0.10280\n",
            "[43]\tvalidation_0-mlogloss:0.10162\n",
            "[44]\tvalidation_0-mlogloss:0.09996\n",
            "[45]\tvalidation_0-mlogloss:0.09838\n",
            "[46]\tvalidation_0-mlogloss:0.09682\n",
            "[47]\tvalidation_0-mlogloss:0.09469\n",
            "[48]\tvalidation_0-mlogloss:0.09325\n",
            "[49]\tvalidation_0-mlogloss:0.09216\n",
            "[50]\tvalidation_0-mlogloss:0.09102\n",
            "[51]\tvalidation_0-mlogloss:0.08969\n",
            "[52]\tvalidation_0-mlogloss:0.08854\n",
            "[53]\tvalidation_0-mlogloss:0.08746\n",
            "[54]\tvalidation_0-mlogloss:0.08670\n",
            "[55]\tvalidation_0-mlogloss:0.08615\n",
            "[56]\tvalidation_0-mlogloss:0.08522\n",
            "[57]\tvalidation_0-mlogloss:0.08386\n",
            "[58]\tvalidation_0-mlogloss:0.08277\n",
            "[59]\tvalidation_0-mlogloss:0.08213\n",
            "[60]\tvalidation_0-mlogloss:0.08130\n",
            "[61]\tvalidation_0-mlogloss:0.08047\n",
            "[62]\tvalidation_0-mlogloss:0.07969\n",
            "[63]\tvalidation_0-mlogloss:0.07864\n",
            "[64]\tvalidation_0-mlogloss:0.07789\n",
            "[65]\tvalidation_0-mlogloss:0.07730\n",
            "[66]\tvalidation_0-mlogloss:0.07648\n",
            "[67]\tvalidation_0-mlogloss:0.07609\n",
            "[68]\tvalidation_0-mlogloss:0.07528\n",
            "[69]\tvalidation_0-mlogloss:0.07469\n",
            "[70]\tvalidation_0-mlogloss:0.07422\n",
            "[71]\tvalidation_0-mlogloss:0.07376\n",
            "[72]\tvalidation_0-mlogloss:0.07310\n",
            "[73]\tvalidation_0-mlogloss:0.07243\n",
            "[74]\tvalidation_0-mlogloss:0.07197\n",
            "[75]\tvalidation_0-mlogloss:0.07136\n",
            "[76]\tvalidation_0-mlogloss:0.07093\n",
            "[77]\tvalidation_0-mlogloss:0.07026\n",
            "[78]\tvalidation_0-mlogloss:0.06984\n",
            "[79]\tvalidation_0-mlogloss:0.06909\n",
            "[80]\tvalidation_0-mlogloss:0.06854\n",
            "[81]\tvalidation_0-mlogloss:0.06800\n",
            "[82]\tvalidation_0-mlogloss:0.06757\n",
            "[83]\tvalidation_0-mlogloss:0.06725\n",
            "[84]\tvalidation_0-mlogloss:0.06667\n",
            "[85]\tvalidation_0-mlogloss:0.06625\n",
            "[86]\tvalidation_0-mlogloss:0.06585\n",
            "[87]\tvalidation_0-mlogloss:0.06541\n",
            "[88]\tvalidation_0-mlogloss:0.06519\n",
            "[89]\tvalidation_0-mlogloss:0.06477\n",
            "[90]\tvalidation_0-mlogloss:0.06428\n",
            "[91]\tvalidation_0-mlogloss:0.06388\n",
            "[92]\tvalidation_0-mlogloss:0.06357\n",
            "[93]\tvalidation_0-mlogloss:0.06304\n",
            "[94]\tvalidation_0-mlogloss:0.06271\n",
            "[95]\tvalidation_0-mlogloss:0.06211\n",
            "[96]\tvalidation_0-mlogloss:0.06157\n",
            "[97]\tvalidation_0-mlogloss:0.06112\n",
            "[98]\tvalidation_0-mlogloss:0.06091\n",
            "[99]\tvalidation_0-mlogloss:0.06055\n",
            "[100]\tvalidation_0-mlogloss:0.06014\n",
            "[101]\tvalidation_0-mlogloss:0.05985\n",
            "[102]\tvalidation_0-mlogloss:0.05952\n",
            "[103]\tvalidation_0-mlogloss:0.05927\n",
            "[104]\tvalidation_0-mlogloss:0.05882\n",
            "[105]\tvalidation_0-mlogloss:0.05843\n",
            "[106]\tvalidation_0-mlogloss:0.05802\n",
            "[107]\tvalidation_0-mlogloss:0.05784\n",
            "[108]\tvalidation_0-mlogloss:0.05765\n",
            "[109]\tvalidation_0-mlogloss:0.05731\n",
            "[110]\tvalidation_0-mlogloss:0.05704\n",
            "[111]\tvalidation_0-mlogloss:0.05678\n",
            "[112]\tvalidation_0-mlogloss:0.05625\n",
            "[113]\tvalidation_0-mlogloss:0.05621\n",
            "[114]\tvalidation_0-mlogloss:0.05596\n",
            "[115]\tvalidation_0-mlogloss:0.05566\n",
            "[116]\tvalidation_0-mlogloss:0.05542\n",
            "[117]\tvalidation_0-mlogloss:0.05520\n",
            "[118]\tvalidation_0-mlogloss:0.05495\n",
            "[119]\tvalidation_0-mlogloss:0.05489\n",
            "[120]\tvalidation_0-mlogloss:0.05475\n",
            "[121]\tvalidation_0-mlogloss:0.05441\n",
            "[122]\tvalidation_0-mlogloss:0.05414\n",
            "[123]\tvalidation_0-mlogloss:0.05387\n",
            "[124]\tvalidation_0-mlogloss:0.05352\n",
            "[125]\tvalidation_0-mlogloss:0.05351\n",
            "[126]\tvalidation_0-mlogloss:0.05318\n",
            "[127]\tvalidation_0-mlogloss:0.05302\n",
            "[128]\tvalidation_0-mlogloss:0.05285\n",
            "[129]\tvalidation_0-mlogloss:0.05252\n",
            "[130]\tvalidation_0-mlogloss:0.05219\n",
            "[131]\tvalidation_0-mlogloss:0.05194\n",
            "[132]\tvalidation_0-mlogloss:0.05183\n",
            "[133]\tvalidation_0-mlogloss:0.05172\n",
            "[134]\tvalidation_0-mlogloss:0.05139\n",
            "[135]\tvalidation_0-mlogloss:0.05095\n",
            "[136]\tvalidation_0-mlogloss:0.05082\n",
            "[137]\tvalidation_0-mlogloss:0.05067\n",
            "[138]\tvalidation_0-mlogloss:0.05054\n",
            "[139]\tvalidation_0-mlogloss:0.05041\n",
            "[140]\tvalidation_0-mlogloss:0.05010\n",
            "[141]\tvalidation_0-mlogloss:0.04987\n",
            "[142]\tvalidation_0-mlogloss:0.04971\n",
            "[143]\tvalidation_0-mlogloss:0.04958\n",
            "[144]\tvalidation_0-mlogloss:0.04931\n",
            "[145]\tvalidation_0-mlogloss:0.04924\n",
            "[146]\tvalidation_0-mlogloss:0.04912\n",
            "[147]\tvalidation_0-mlogloss:0.04897\n",
            "[148]\tvalidation_0-mlogloss:0.04879\n",
            "[149]\tvalidation_0-mlogloss:0.04856\n",
            "[150]\tvalidation_0-mlogloss:0.04832\n",
            "[151]\tvalidation_0-mlogloss:0.04812\n",
            "[152]\tvalidation_0-mlogloss:0.04787\n",
            "[153]\tvalidation_0-mlogloss:0.04775\n",
            "[154]\tvalidation_0-mlogloss:0.04769\n",
            "[155]\tvalidation_0-mlogloss:0.04746\n",
            "[156]\tvalidation_0-mlogloss:0.04737\n",
            "[157]\tvalidation_0-mlogloss:0.04732\n",
            "[158]\tvalidation_0-mlogloss:0.04718\n",
            "[159]\tvalidation_0-mlogloss:0.04689\n",
            "[160]\tvalidation_0-mlogloss:0.04673\n",
            "[161]\tvalidation_0-mlogloss:0.04653\n",
            "[162]\tvalidation_0-mlogloss:0.04625\n",
            "[163]\tvalidation_0-mlogloss:0.04597\n",
            "[164]\tvalidation_0-mlogloss:0.04575\n",
            "[165]\tvalidation_0-mlogloss:0.04568\n",
            "[166]\tvalidation_0-mlogloss:0.04561\n",
            "[167]\tvalidation_0-mlogloss:0.04553\n",
            "[168]\tvalidation_0-mlogloss:0.04547\n",
            "[169]\tvalidation_0-mlogloss:0.04549\n",
            "[170]\tvalidation_0-mlogloss:0.04538\n",
            "[171]\tvalidation_0-mlogloss:0.04530\n",
            "[172]\tvalidation_0-mlogloss:0.04500\n",
            "[173]\tvalidation_0-mlogloss:0.04481\n",
            "[174]\tvalidation_0-mlogloss:0.04472\n",
            "[175]\tvalidation_0-mlogloss:0.04468\n",
            "[176]\tvalidation_0-mlogloss:0.04454\n",
            "[177]\tvalidation_0-mlogloss:0.04451\n",
            "[178]\tvalidation_0-mlogloss:0.04445\n",
            "[179]\tvalidation_0-mlogloss:0.04432\n",
            "[180]\tvalidation_0-mlogloss:0.04428\n",
            "[181]\tvalidation_0-mlogloss:0.04404\n",
            "[182]\tvalidation_0-mlogloss:0.04385\n",
            "[183]\tvalidation_0-mlogloss:0.04373\n",
            "[184]\tvalidation_0-mlogloss:0.04369\n",
            "[185]\tvalidation_0-mlogloss:0.04364\n",
            "[186]\tvalidation_0-mlogloss:0.04346\n",
            "[187]\tvalidation_0-mlogloss:0.04338\n",
            "[188]\tvalidation_0-mlogloss:0.04316\n",
            "[189]\tvalidation_0-mlogloss:0.04315\n",
            "[190]\tvalidation_0-mlogloss:0.04307\n",
            "[191]\tvalidation_0-mlogloss:0.04298\n",
            "[192]\tvalidation_0-mlogloss:0.04286\n",
            "[193]\tvalidation_0-mlogloss:0.04280\n",
            "[194]\tvalidation_0-mlogloss:0.04270\n",
            "[195]\tvalidation_0-mlogloss:0.04258\n",
            "[196]\tvalidation_0-mlogloss:0.04249\n",
            "[197]\tvalidation_0-mlogloss:0.04247\n",
            "[198]\tvalidation_0-mlogloss:0.04222\n",
            "[199]\tvalidation_0-mlogloss:0.04221\n",
            "Accuracy: 0.9856\n"
          ]
        }
      ],
      "source": [
        "# 训练 XGBoost 模型，加入早期停止\n",
        "print(\"Training XGBoost model...\")\n",
        "xgb_clf = xgb.XGBClassifier(objective='multi:softprob', num_class=10, n_estimators=500)\n",
        "xgb_clf.fit(X_train_augmented, y_train_augmented, \n",
        "            eval_set=[(X_test, y_test)], \n",
        "            eval_metric=\"mlogloss\", \n",
        "            early_stopping_rounds=10,  \n",
        "            # 如果在10轮迭代内验证集上的性能没有改善，则停止训练\n",
        "            verbose=True)\n",
        "\n",
        "# 预测和评估\n",
        "y_pred = xgb_clf.predict(X_test)\n",
        "accuracy = accuracy_score(y_test, y_pred)\n",
        "print(f\"Accuracy: {accuracy}\")\n"
      ]
    }
  ],
  "metadata": {
    "accelerator": "TPU",
    "colab": {
      "provenance": []
    },
    "kernelspec": {
      "display_name": "Python 3",
      "name": "python3"
    },
    "language_info": {
      "codemirror_mode": {
        "name": "ipython",
        "version": 3
      },
      "file_extension": ".py",
      "mimetype": "text/x-python",
      "name": "python",
      "nbconvert_exporter": "python",
      "pygments_lexer": "ipython3",
      "version": "3.9.18"
    }
  },
  "nbformat": 4,
  "nbformat_minor": 0
}
