{
 "cells": [
  {
   "cell_type": "markdown",
   "metadata": {},
   "source": [
    "## 视觉作业2：\n",
    "拍摄校园两幅有重叠部分的照片，编写代码完成两幅图像拼接\n",
    "\n",
    "1）选择一种特征点检测算法，在两幅图像上检测特征点\n",
    "\n",
    "2）选择图像点特征的表示方法，通过特征比对实现两幅图像对应特征点的获取\n",
    "\n",
    "3）选择合适的变换，通过对应特征点计算变换参数，实现图像的拼接"
   ]
  },
  {
   "cell_type": "code",
   "execution_count": null,
   "metadata": {},
   "outputs": [],
   "source": []
  }
 ],
 "metadata": {
  "kernelspec": {
   "display_name": "datasci",
   "language": "python",
   "name": "python3"
  },
  "language_info": {
   "name": "python",
   "version": "3.9.18"
  },
  "orig_nbformat": 4
 },
 "nbformat": 4,
 "nbformat_minor": 2
}
