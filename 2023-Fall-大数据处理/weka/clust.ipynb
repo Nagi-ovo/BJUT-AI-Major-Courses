{
 "cells": [
  {
   "cell_type": "code",
   "execution_count": 5,
   "metadata": {},
   "outputs": [],
   "source": [
    "import numpy as np\n",
    "import pandas as pd\n",
    "from sklearn.preprocessing import StandardScalerclus"
   ]
  },
  {
   "cell_type": "code",
   "execution_count": 3,
   "metadata": {},
   "outputs": [],
   "source": [
    "def calculate_wss_bss(csv_file_path):\n",
    "    df = pd.read_csv(csv_file_path)\n",
    "\n",
    "    # 提取特征列，忽略非数值列\n",
    "    features = df[['sepallength', 'sepalwidth', 'petallength', 'petalwidth']]\n",
    "\n",
    "    # 标准化特征列\n",
    "    scaler = StandardScaler()\n",
    "    features_scaled = scaler.fit_transform(features)\n",
    "\n",
    "    # 提取聚类标签\n",
    "    labels = df['Cluster']\n",
    "    unique_labels, label_indices = np.unique(labels, return_inverse=True)\n",
    "\n",
    "    # 初始化WSS和BSS\n",
    "    wss = 0\n",
    "    bss = 0\n",
    "\n",
    "    # 计算每个簇的质心\n",
    "    centroids = np.array([features_scaled[label_indices == i].mean(axis=0) for i in range(len(unique_labels))])\n",
    "\n",
    "    # 计算WSS\n",
    "    for i, centroid in enumerate(centroids):\n",
    "        cluster_points = features_scaled[label_indices == i]\n",
    "        wss += ((cluster_points - centroid)**2).sum()\n",
    "\n",
    "    # 计算全局质心\n",
    "    overall_centroid = features_scaled.mean(axis=0)\n",
    "\n",
    "    # 计算BSS\n",
    "    for i, centroid in enumerate(centroids):\n",
    "        n_points = np.sum(label_indices == i)\n",
    "        bss += n_points * np.linalg.norm(centroid - overall_centroid) ** 2\n",
    "\n",
    "    return wss, bss"
   ]
  },
  {
   "cell_type": "code",
   "execution_count": 4,
   "metadata": {},
   "outputs": [
    {
     "name": "stdout",
     "output_type": "stream",
     "text": [
      "File 1: WSS = 223.73200573676345, BSS = 376.2679942632363\n",
      "File 2: WSS = 223.73200573676345, BSS = 376.2679942632363\n",
      "File 3: WSS = 139.52116322464994, BSS = 460.4788367753499\n"
     ]
    }
   ],
   "source": [
    "csv_files = [\n",
    "    './csv_result-simpleKM.csv',\n",
    "    './csv_result-hierarclust.csv',\n",
    "    './csv_result-EM.csv'\n",
    "]\n",
    "\n",
    "# 计算每个文件的WSS和BSS\n",
    "results = [calculate_wss_bss(file) for file in csv_files]\n",
    "\n",
    "# 输出对比结果\n",
    "for i, result in enumerate(results):\n",
    "    print(f\"File {i+1}: WSS = {result[0]}, BSS = {result[1]}\")"
   ]
  }
 ],
 "metadata": {
  "kernelspec": {
   "display_name": "datasci",
   "language": "python",
   "name": "python3"
  },
  "language_info": {
   "codemirror_mode": {
    "name": "ipython",
    "version": 3
   },
   "file_extension": ".py",
   "mimetype": "text/x-python",
   "name": "python",
   "nbconvert_exporter": "python",
   "pygments_lexer": "ipython3",
   "version": "3.9.18"
  },
  "orig_nbformat": 4
 },
 "nbformat": 4,
 "nbformat_minor": 2
}
