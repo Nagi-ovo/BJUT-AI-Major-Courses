{
 "cells": [
  {
   "cell_type": "code",
   "execution_count": 2,
   "metadata": {},
   "outputs": [],
   "source": [
    "import numpy as np\n",
    "import matplotlib.pyplot as plt\n",
    "import math\n",
    "%matplotlib inline"
   ]
  },
  {
   "cell_type": "code",
   "execution_count": 3,
   "metadata": {},
   "outputs": [],
   "source": [
    "# Define a scalar function f(x), which accepts a scalar x and returns a scalar y\n",
    "def f(x):\n",
    "    return 3*x**2 - 4*x + 5"
   ]
  },
  {
   "cell_type": "code",
   "execution_count": 4,
   "metadata": {},
   "outputs": [
    {
     "data": {
      "text/plain": [
       "20.0"
      ]
     },
     "execution_count": 4,
     "metadata": {},
     "output_type": "execute_result"
    }
   ],
   "source": [
    "f(3.0)"
   ]
  },
  {
   "cell_type": "code",
   "execution_count": 5,
   "metadata": {},
   "outputs": [
    {
     "data": {
      "text/plain": [
       "[<matplotlib.lines.Line2D at 0x1230d3490>]"
      ]
     },
     "execution_count": 5,
     "metadata": {},
     "output_type": "execute_result"
    },
    {
     "data": {
      "image/png": "[encoded data removed]",
      "text/plain": [
       "<Figure size 640x480 with 1 Axes>"
      ]
     },
     "metadata": {},
     "output_type": "display_data"
    }
   ],
   "source": [
    "# Create a set of scalar values to feed into f(x)\n",
    "xs = np.arange(-5, 5, 0.25)\n",
    "'''\n",
    "xs = array([-5.  , -4.75, -4.5 , -4.25, -4.  , -3.75, -3.5 , -3.25, -3.  ,\n",
    "       -2.75, -2.5 , -2.25, -2.  , -1.75, -1.5 , -1.25, -1.  , -0.75,\n",
    "       -0.5 , -0.25,  0.  ,  0.25,  0.5 ,  0.75,  1.  ,  1.25,  1.5 ,\n",
    "        1.75,  2.  ,  2.25,  2.5 ,  2.75,  3.  ,  3.25,  3.5 ,  3.75,\n",
    "        4.  ,  4.25,  4.5 ,  4.75])\n",
    "'''\n",
    "# Apply f(x) to each value in xs\n",
    "ys = f(xs)\n",
    "'''\n",
    "ys = array([100.    ,  91.6875,  83.75  ,  76.1875,  69.    ,  62.1875,\n",
    "        55.75  ,  49.6875,  44.    ,  38.6875,  33.75  ,  29.1875,\n",
    "        25.    ,  21.1875,  17.75  ,  14.6875,  12.    ,   9.6875,\n",
    "         7.75  ,   6.1875,   5.    ,   4.1875,   3.75  ,   3.6875,\n",
    "         4.    ,   4.6875,   5.75  ,   7.1875,   9.    ,  11.1875,\n",
    "        13.75  ,  16.6875,  20.    ,  23.6875,  27.75  ,  32.1875,\n",
    "        37.    ,  42.1875,  47.75  ,  53.6875])\n",
    "'''\n",
    "# Plot the results\n",
    "plt.plot(xs, ys)"
   ]
  },
  {
   "cell_type": "code",
   "execution_count": 6,
   "metadata": {},
   "outputs": [
    {
     "data": {
      "text/plain": [
       "0.0"
      ]
     },
     "execution_count": 6,
     "metadata": {},
     "output_type": "execute_result"
    }
   ],
   "source": [
    "# We can basically evaluate the derivate here numerically by taking a very small h\n",
    "h = 0.00000001\n",
    "x = 2/3\n",
    "(f(x + h) - f(x)) / h # the function respond positively"
   ]
  },
  {
   "cell_type": "code",
   "execution_count": 7,
   "metadata": {},
   "outputs": [
    {
     "name": "stdout",
     "output_type": "stream",
     "text": [
      "4.0\n"
     ]
    }
   ],
   "source": [
    "# lets get more complex\n",
    "a = 2.0\n",
    "b = -3.0\n",
    "c = 10\n",
    "d = a * b + c\n",
    "print(d)"
   ]
  },
  {
   "cell_type": "code",
   "execution_count": 8,
   "metadata": {},
   "outputs": [
    {
     "name": "stdout",
     "output_type": "stream",
     "text": [
      "da 4.0\n",
      "d2 4.0001\n",
      "slope 0.9999999999976694\n"
     ]
    }
   ],
   "source": [
    "h = 0.0001\n",
    "\n",
    "# inputs\n",
    "a = 2.0\n",
    "b = -3.0\n",
    "c = 10\n",
    "d1 = a * b + c\n",
    "c += h\n",
    "d2 = a * b + c\n",
    "\n",
    "print('da',d1)\n",
    "print('d2',d2)\n",
    "print('slope', (d2 - d1) / h)"
   ]
  },
  {
   "cell_type": "code",
   "execution_count": 38,
   "metadata": {},
   "outputs": [
    {
     "data": {
      "text/plain": [
       "Value(-8.0)"
      ]
     },
     "execution_count": 38,
     "metadata": {},
     "output_type": "execute_result"
    }
   ],
   "source": [
    "class Value:\n",
    "    def __init__(self, data, _children=(), _op='', label=''):\n",
    "        self.data = data\n",
    "        self.grad = 0.0\n",
    "        self._prev = set(_children)\n",
    "        self._op = _op\n",
    "        self.label = label\n",
    "\n",
    "    def __repr__(self):\n",
    "        return f\"Value({self.data})\"\n",
    "\n",
    "    def __add__(self, other):\n",
    "        out = Value(self.data + other.data, (self, other), '+')\n",
    "        return out\n",
    "    \n",
    "    def __mul__(self, other):\n",
    "        out = Value(self.data * other.data, (self, other), '*')\n",
    "        return out\n",
    "    \n",
    "    def tanh(self):\n",
    "        n = self.data\n",
    "        t = (math.exp(2*n) - 1)/(math.exp(2*n) + 1)\n",
    "        out = Value(t, (self,), 'tanh')\n",
    "        return out\n",
    "\n",
    "a = Value(2.0, label='a')\n",
    "b = Value(-3.0, label='b')\n",
    "c = Value(10.0, label='c')\n",
    "e = a * b; e.label = 'e'\n",
    "d = e + c; d.label = 'd'\n",
    "f = Value(-2.0, label='f')\n",
    "L = d * f; L.label = 'L'\n",
    "L"
   ]
  },
  {
   "cell_type": "code",
   "execution_count": 10,
   "metadata": {},
   "outputs": [],
   "source": [
    "from graphviz import Digraph\n",
    "\n",
    "def trace(root):\n",
    "    # builds a set of all node and edges in the graph\n",
    "    nodes, edges = set(), set()\n",
    "    def build(v):\n",
    "        if v not in nodes:\n",
    "            nodes.add(v)\n",
    "            for child in v._prev:\n",
    "                edges.add((child, v))\n",
    "                build(child)    \n",
    "    build(root)\n",
    "    return nodes, edges\n",
    "\n",
    "def draw_dot(root):\n",
    "    dot = Digraph(format='svg', graph_attr={'rankdir': 'LR'}) # LR = left to right\n",
    "\n",
    "    nodes, edges = trace(root)\n",
    "    for n in nodes:\n",
    "        uid = str(id(n))\n",
    "        # for many value in graph, create a rectangular ('record') node for it \n",
    "        dot.node(name = uid, label = \"{ %s | data %.4f | grad %.4f }\" % (n.label, n.data, n.grad), shape = 'record')\n",
    "        if n._op:\n",
    "            # if this value is a result of some operation, create an op node for it \n",
    "            dot.node(name = uid + n._op, label = n._op)\n",
    "            # and connect this node for it \n",
    "            dot.edge(uid + n._op, uid)\n",
    "\n",
    "    for n1, n2 in edges:\n",
    "        # connect n1 to the op node of n2 \n",
    "        dot.edge(str(id(n1)), str(id(n2)) + n2._op)   \n",
    "\n",
    "    return dot"
   ]
  },
  {
   "cell_type": "code",
   "execution_count": 28,
   "metadata": {},
   "outputs": [
    {
     "data": {
      "image/svg+xml": [
       "<?xml version=\"1.0\" encoding=\"UTF-8\" standalone=\"no\"?>\n",
       "<!DOCTYPE svg PUBLIC \"-//W3C//DTD SVG 1.1//EN\"\n",
       " \"http://www.w3.org/Graphics/SVG/1.1/DTD/svg11.dtd\">\n",
       "<!-- Generated by graphviz version 9.0.0 (20230911.1827)\n",
       " -->\n",
       "<!-- Pages: 1 -->\n",
       "<svg width=\"1144pt\" height=\"128pt\"\n",
       " viewBox=\"0.00 0.00 1144.25 128.00\" xmlns=\"http://www.w3.org/2000/svg\" xmlns:xlink=\"http://www.w3.org/1999/xlink\">\n",
       "<g id=\"graph0\" class=\"graph\" transform=\"scale(1 1) rotate(0) translate(4 124)\">\n",
       "<polygon fill=\"white\" stroke=\"none\" points=\"-4,4 -4,-124 1140.25,-124 1140.25,4 -4,4\"/>\n",
       "<!-- 4884273712 -->\n",
       "<g id=\"node1\" class=\"node\">\n",
       "<title>4884273712</title>\n",
       "<polygon fill=\"none\" stroke=\"black\" points=\"639.38,-27.5 639.38,-63.5 824.62,-63.5 824.62,-27.5 639.38,-27.5\"/>\n",
       "<text text-anchor=\"middle\" x=\"649.25\" y=\"-40.7\" font-family=\"Times,serif\" font-size=\"14.00\"> </text>\n",
       "<polyline fill=\"none\" stroke=\"black\" points=\"659.12,-28 659.12,-63.5\"/>\n",
       "<text text-anchor=\"middle\" x=\"699\" y=\"-40.7\" font-family=\"Times,serif\" font-size=\"14.00\">data 4.0000</text>\n",
       "<polyline fill=\"none\" stroke=\"black\" points=\"738.88,-28 738.88,-63.5\"/>\n",
       "<text text-anchor=\"middle\" x=\"781.75\" y=\"-40.7\" font-family=\"Times,serif\" font-size=\"14.00\">grad &#45;2.0000</text>\n",
       "</g>\n",
       "<!-- 4884273520* -->\n",
       "<g id=\"node7\" class=\"node\">\n",
       "<title>4884273520*</title>\n",
       "<ellipse fill=\"none\" stroke=\"black\" cx=\"888\" cy=\"-72.5\" rx=\"27\" ry=\"18\"/>\n",
       "<text text-anchor=\"middle\" x=\"888\" y=\"-67.45\" font-family=\"Times,serif\" font-size=\"14.00\">*</text>\n",
       "</g>\n",
       "<!-- 4884273712&#45;&gt;4884273520* -->\n",
       "<g id=\"edge8\" class=\"edge\">\n",
       "<title>4884273712&#45;&gt;4884273520*</title>\n",
       "<path fill=\"none\" stroke=\"black\" d=\"M824.81,-61.6C833.7,-63.16 842.33,-64.67 850.18,-66.04\"/>\n",
       "<polygon fill=\"black\" stroke=\"black\" points=\"849.48,-69.48 859.94,-67.76 850.69,-62.58 849.48,-69.48\"/>\n",
       "</g>\n",
       "<!-- 4884273712+ -->\n",
       "<g id=\"node2\" class=\"node\">\n",
       "<title>4884273712+</title>\n",
       "<ellipse fill=\"none\" stroke=\"black\" cx=\"576\" cy=\"-45.5\" rx=\"27\" ry=\"18\"/>\n",
       "<text text-anchor=\"middle\" x=\"576\" y=\"-40.45\" font-family=\"Times,serif\" font-size=\"14.00\">+</text>\n",
       "</g>\n",
       "<!-- 4884273712+&#45;&gt;4884273712 -->\n",
       "<g id=\"edge1\" class=\"edge\">\n",
       "<title>4884273712+&#45;&gt;4884273712</title>\n",
       "<path fill=\"none\" stroke=\"black\" d=\"M603.47,-45.5C610.67,-45.5 618.92,-45.5 627.69,-45.5\"/>\n",
       "<polygon fill=\"black\" stroke=\"black\" points=\"627.51,-49 637.51,-45.5 627.51,-42 627.51,-49\"/>\n",
       "</g>\n",
       "<!-- 4883849280 -->\n",
       "<g id=\"node3\" class=\"node\">\n",
       "<title>4883849280</title>\n",
       "<polygon fill=\"none\" stroke=\"black\" points=\"0,-83.5 0,-119.5 192.75,-119.5 192.75,-83.5 0,-83.5\"/>\n",
       "<text text-anchor=\"middle\" x=\"11.38\" y=\"-96.7\" font-family=\"Times,serif\" font-size=\"14.00\">b</text>\n",
       "<polyline fill=\"none\" stroke=\"black\" points=\"22.75,-84 22.75,-119.5\"/>\n",
       "<text text-anchor=\"middle\" x=\"64.88\" y=\"-96.7\" font-family=\"Times,serif\" font-size=\"14.00\">data &#45;3.0000</text>\n",
       "<polyline fill=\"none\" stroke=\"black\" points=\"107,-84 107,-119.5\"/>\n",
       "<text text-anchor=\"middle\" x=\"149.88\" y=\"-96.7\" font-family=\"Times,serif\" font-size=\"14.00\">grad &#45;4.0000</text>\n",
       "</g>\n",
       "<!-- 4884273472* -->\n",
       "<g id=\"node5\" class=\"node\">\n",
       "<title>4884273472*</title>\n",
       "<ellipse fill=\"none\" stroke=\"black\" cx=\"255.75\" cy=\"-73.5\" rx=\"27\" ry=\"18\"/>\n",
       "<text text-anchor=\"middle\" x=\"255.75\" y=\"-68.45\" font-family=\"Times,serif\" font-size=\"14.00\">*</text>\n",
       "</g>\n",
       "<!-- 4883849280&#45;&gt;4884273472* -->\n",
       "<g id=\"edge4\" class=\"edge\">\n",
       "<title>4883849280&#45;&gt;4884273472*</title>\n",
       "<path fill=\"none\" stroke=\"black\" d=\"M193,-84.49C201.81,-82.92 210.32,-81.41 218.06,-80.03\"/>\n",
       "<polygon fill=\"black\" stroke=\"black\" points=\"218.43,-83.52 227.66,-78.32 217.21,-76.62 218.43,-83.52\"/>\n",
       "</g>\n",
       "<!-- 4884273472 -->\n",
       "<g id=\"node4\" class=\"node\">\n",
       "<title>4884273472</title>\n",
       "<polygon fill=\"none\" stroke=\"black\" points=\"321,-55.5 321,-91.5 510.75,-91.5 510.75,-55.5 321,-55.5\"/>\n",
       "<text text-anchor=\"middle\" x=\"330.88\" y=\"-68.7\" font-family=\"Times,serif\" font-size=\"14.00\"> </text>\n",
       "<polyline fill=\"none\" stroke=\"black\" points=\"340.75,-56 340.75,-91.5\"/>\n",
       "<text text-anchor=\"middle\" x=\"382.88\" y=\"-68.7\" font-family=\"Times,serif\" font-size=\"14.00\">data &#45;6.0000</text>\n",
       "<polyline fill=\"none\" stroke=\"black\" points=\"425,-56 425,-91.5\"/>\n",
       "<text text-anchor=\"middle\" x=\"467.88\" y=\"-68.7\" font-family=\"Times,serif\" font-size=\"14.00\">grad &#45;2.0000</text>\n",
       "</g>\n",
       "<!-- 4884273472&#45;&gt;4884273712+ -->\n",
       "<g id=\"edge5\" class=\"edge\">\n",
       "<title>4884273472&#45;&gt;4884273712+</title>\n",
       "<path fill=\"none\" stroke=\"black\" d=\"M511.14,-56.81C520.67,-55.12 529.89,-53.49 538.23,-52.01\"/>\n",
       "<polygon fill=\"black\" stroke=\"black\" points=\"538.63,-55.49 547.87,-50.3 537.41,-48.6 538.63,-55.49\"/>\n",
       "</g>\n",
       "<!-- 4884273472*&#45;&gt;4884273472 -->\n",
       "<g id=\"edge2\" class=\"edge\">\n",
       "<title>4884273472*&#45;&gt;4884273472</title>\n",
       "<path fill=\"none\" stroke=\"black\" d=\"M283.22,-73.5C290.93,-73.5 299.86,-73.5 309.36,-73.5\"/>\n",
       "<polygon fill=\"black\" stroke=\"black\" points=\"309.24,-77 319.24,-73.5 309.24,-70 309.24,-77\"/>\n",
       "</g>\n",
       "<!-- 4884273520 -->\n",
       "<g id=\"node6\" class=\"node\">\n",
       "<title>4884273520</title>\n",
       "<polygon fill=\"none\" stroke=\"black\" points=\"951,-54.5 951,-90.5 1136.25,-90.5 1136.25,-54.5 951,-54.5\"/>\n",
       "<text text-anchor=\"middle\" x=\"960.88\" y=\"-67.7\" font-family=\"Times,serif\" font-size=\"14.00\"> </text>\n",
       "<polyline fill=\"none\" stroke=\"black\" points=\"970.75,-55 970.75,-90.5\"/>\n",
       "<text text-anchor=\"middle\" x=\"1012.88\" y=\"-67.7\" font-family=\"Times,serif\" font-size=\"14.00\">data &#45;8.0000</text>\n",
       "<polyline fill=\"none\" stroke=\"black\" points=\"1055,-55 1055,-90.5\"/>\n",
       "<text text-anchor=\"middle\" x=\"1095.62\" y=\"-67.7\" font-family=\"Times,serif\" font-size=\"14.00\">grad 1.0000</text>\n",
       "</g>\n",
       "<!-- 4884273520*&#45;&gt;4884273520 -->\n",
       "<g id=\"edge3\" class=\"edge\">\n",
       "<title>4884273520*&#45;&gt;4884273520</title>\n",
       "<path fill=\"none\" stroke=\"black\" d=\"M915.41,-72.5C922.45,-72.5 930.5,-72.5 939.05,-72.5\"/>\n",
       "<polygon fill=\"black\" stroke=\"black\" points=\"939.04,-76 949.04,-72.5 939.04,-69 939.04,-76\"/>\n",
       "</g>\n",
       "<!-- 4883852160 -->\n",
       "<g id=\"node8\" class=\"node\">\n",
       "<title>4883852160</title>\n",
       "<polygon fill=\"none\" stroke=\"black\" points=\"4.88,-28.5 4.88,-64.5 187.88,-64.5 187.88,-28.5 4.88,-28.5\"/>\n",
       "<text text-anchor=\"middle\" x=\"15.88\" y=\"-41.7\" font-family=\"Times,serif\" font-size=\"14.00\">a</text>\n",
       "<polyline fill=\"none\" stroke=\"black\" points=\"26.88,-29 26.88,-64.5\"/>\n",
       "<text text-anchor=\"middle\" x=\"66.75\" y=\"-41.7\" font-family=\"Times,serif\" font-size=\"14.00\">data 2.0000</text>\n",
       "<polyline fill=\"none\" stroke=\"black\" points=\"106.62,-29 106.62,-64.5\"/>\n",
       "<text text-anchor=\"middle\" x=\"147.25\" y=\"-41.7\" font-family=\"Times,serif\" font-size=\"14.00\">grad 6.0000</text>\n",
       "</g>\n",
       "<!-- 4883852160&#45;&gt;4884273472* -->\n",
       "<g id=\"edge6\" class=\"edge\">\n",
       "<title>4883852160&#45;&gt;4884273472*</title>\n",
       "<path fill=\"none\" stroke=\"black\" d=\"M188.01,-62.05C198.46,-63.84 208.62,-65.59 217.74,-67.15\"/>\n",
       "<polygon fill=\"black\" stroke=\"black\" points=\"217.11,-70.59 227.56,-68.84 218.3,-63.69 217.11,-70.59\"/>\n",
       "</g>\n",
       "<!-- 4883851152 -->\n",
       "<g id=\"node9\" class=\"node\">\n",
       "<title>4883851152</title>\n",
       "<polygon fill=\"none\" stroke=\"black\" points=\"318.75,-0.5 318.75,-36.5 513,-36.5 513,-0.5 318.75,-0.5\"/>\n",
       "<text text-anchor=\"middle\" x=\"329.75\" y=\"-13.7\" font-family=\"Times,serif\" font-size=\"14.00\">c</text>\n",
       "<polyline fill=\"none\" stroke=\"black\" points=\"340.75,-1 340.75,-36.5\"/>\n",
       "<text text-anchor=\"middle\" x=\"384\" y=\"-13.7\" font-family=\"Times,serif\" font-size=\"14.00\">data 10.0000</text>\n",
       "<polyline fill=\"none\" stroke=\"black\" points=\"427.25,-1 427.25,-36.5\"/>\n",
       "<text text-anchor=\"middle\" x=\"470.12\" y=\"-13.7\" font-family=\"Times,serif\" font-size=\"14.00\">grad &#45;2.0000</text>\n",
       "</g>\n",
       "<!-- 4883851152&#45;&gt;4884273712+ -->\n",
       "<g id=\"edge7\" class=\"edge\">\n",
       "<title>4883851152&#45;&gt;4884273712+</title>\n",
       "<path fill=\"none\" stroke=\"black\" d=\"M513.41,-34.98C522.1,-36.47 530.5,-37.9 538.15,-39.21\"/>\n",
       "<polygon fill=\"black\" stroke=\"black\" points=\"537.55,-42.66 548,-40.89 538.73,-35.76 537.55,-42.66\"/>\n",
       "</g>\n",
       "<!-- 4884272080 -->\n",
       "<g id=\"node10\" class=\"node\">\n",
       "<title>4884272080</title>\n",
       "<polygon fill=\"none\" stroke=\"black\" points=\"639,-82.5 639,-118.5 825,-118.5 825,-82.5 639,-82.5\"/>\n",
       "<text text-anchor=\"middle\" x=\"649.25\" y=\"-95.7\" font-family=\"Times,serif\" font-size=\"14.00\">f</text>\n",
       "<polyline fill=\"none\" stroke=\"black\" points=\"659.5,-83 659.5,-118.5\"/>\n",
       "<text text-anchor=\"middle\" x=\"701.62\" y=\"-95.7\" font-family=\"Times,serif\" font-size=\"14.00\">data &#45;2.0000</text>\n",
       "<polyline fill=\"none\" stroke=\"black\" points=\"743.75,-83 743.75,-118.5\"/>\n",
       "<text text-anchor=\"middle\" x=\"784.38\" y=\"-95.7\" font-family=\"Times,serif\" font-size=\"14.00\">grad 4.0000</text>\n",
       "</g>\n",
       "<!-- 4884272080&#45;&gt;4884273520* -->\n",
       "<g id=\"edge9\" class=\"edge\">\n",
       "<title>4884272080&#45;&gt;4884273520*</title>\n",
       "<path fill=\"none\" stroke=\"black\" d=\"M825.25,-83.73C834.1,-82.12 842.67,-80.56 850.46,-79.14\"/>\n",
       "<polygon fill=\"black\" stroke=\"black\" points=\"850.93,-82.62 860.15,-77.38 849.68,-75.73 850.93,-82.62\"/>\n",
       "</g>\n",
       "</g>\n",
       "</svg>\n"
      ],
      "text/plain": [
       "<graphviz.graphs.Digraph at 0x123201e50>"
      ]
     },
     "execution_count": 28,
     "metadata": {},
     "output_type": "execute_result"
    }
   ],
   "source": [
    "draw_dot(L)"
   ]
  },
  {
   "cell_type": "code",
   "execution_count": 29,
   "metadata": {},
   "outputs": [
    {
     "name": "stdout",
     "output_type": "stream",
     "text": [
      "-7.286496\n"
     ]
    }
   ],
   "source": [
    "a.data += 0.01 * a.grad\n",
    "b.data += 0.01 * b.grad\n",
    "c.data += 0.01 * c.grad\n",
    "f.data += 0.01 * f.grad\n",
    "\n",
    "e = a * b\n",
    "d = e + c\n",
    "L = d * f\n",
    "\n",
    "print(L.data)"
   ]
  },
  {
   "cell_type": "code",
   "execution_count": 27,
   "metadata": {},
   "outputs": [],
   "source": [
    "a.grad = -2.0 * -3.0\n",
    "b.grad = -2.0 * 2.0\n",
    " \n",
    "c.grad = -2.0\n",
    "e.grad = -2.0\n",
    "L.grad = 1.0\n",
    "f.grad = 4.0\n",
    "d.grad = -2.0"
   ]
  },
  {
   "cell_type": "markdown",
   "metadata": {},
   "source": [
    "dd / dc = ?- -> 1.0\n",
    "dd / de = 1.0\n",
    "d = c + e\n",
    "\n",
    "WANT:\n",
    "dL / dc = (dL / dd) * (dd / dc)\n",
    "\n",
    "KNOW:\n",
    "dL / dd\n",
    "dd / dc \n"
   ]
  },
  {
   "cell_type": "code",
   "execution_count": 20,
   "metadata": {},
   "outputs": [
    {
     "name": "stdout",
     "output_type": "stream",
     "text": [
      "-3.9999999999995595\n"
     ]
    }
   ],
   "source": [
    "def lol():\n",
    "\n",
    "    h = 0.001\n",
    "    a = Value(2.0, label='a')\n",
    "    b = Value(-3.0, label='b')\n",
    "    c = Value(10.0, label='c')\n",
    "    e = a * b; e.label = 'e'\n",
    "    d = e + c; d.label = 'd'\n",
    "    f = Value(-2.0, label='f')\n",
    "    L = d * f; L.label = 'L'\n",
    "    L1 = L.data\n",
    "\n",
    "    a = Value(2.0 , label='a')\n",
    "    b = Value(-3.0 + h, label='b')\n",
    "    c = Value(10.0, label='c')\n",
    "    e = a * b; e.label = 'e'\n",
    "    d = e + c; d.label = 'd'\n",
    "    f = Value(-2.0, label='f')\n",
    "    L = d * f; L.label = 'L'\n",
    "    L2 = L.data \n",
    "\n",
    "    print((L2 - L1) / h)\n",
    "\n",
    "lol()"
   ]
  },
  {
   "cell_type": "code",
   "execution_count": 35,
   "metadata": {},
   "outputs": [
    {
     "data": {
      "image/png": "[encoded data removed]",
      "text/plain": [
       "<Figure size 640x480 with 1 Axes>"
      ]
     },
     "metadata": {},
     "output_type": "display_data"
    }
   ],
   "source": [
    "plt.plot(np.arange(-5,5,0.2), np.tanh(np.arange(-5,5,0.2))); plt.grid();"
   ]
  },
  {
   "cell_type": "code",
   "execution_count": 80,
   "metadata": {},
   "outputs": [],
   "source": [
    "# inputs x1,x2\n",
    "x1 = Value(2.0, label='x1')\n",
    "x2 = Value(0.0, label='x2')\n",
    "\n",
    "# weights w1,w2, 每个输入的突触强度\n",
    "w1 = Value(-2.8, label='w1')\n",
    "w2 = Value(1.0, label='w2')\n",
    "\n",
    "# bias b 偏置\n",
    "b = Value(6.8813735870195432, label='b')\n",
    "\n",
    "# x1*w1 + x2*w2 + b\n",
    "x1w1 = x1 * w1; x1w1.label = 'x1w1'\n",
    "x2w2 = x2 * w2; x2w2.label = 'x2w2'\n",
    "x1w1x2w2 = x1w1 + x2w2; x1w1x2w2.label = 'x1w1x2w2'\n",
    "n = x1w1x2w2 + b; n.label = 'n' # 细胞体的原始激活值\n",
    "\n",
    "o = n.tanh(); o.label = 'o'"
   ]
  },
  {
   "cell_type": "code",
   "execution_count": 82,
   "metadata": {},
   "outputs": [
    {
     "data": {
      "image/svg+xml": [
       "<?xml version=\"1.0\" encoding=\"UTF-8\" standalone=\"no\"?>\n",
       "<!DOCTYPE svg PUBLIC \"-//W3C//DTD SVG 1.1//EN\"\n",
       " \"http://www.w3.org/Graphics/SVG/1.1/DTD/svg11.dtd\">\n",
       "<!-- Generated by graphviz version 9.0.0 (20230911.1827)\n",
       " -->\n",
       "<!-- Pages: 1 -->\n",
       "<svg width=\"1531pt\" height=\"210pt\"\n",
       " viewBox=\"0.00 0.00 1530.50 210.00\" xmlns=\"http://www.w3.org/2000/svg\" xmlns:xlink=\"http://www.w3.org/1999/xlink\">\n",
       "<g id=\"graph0\" class=\"graph\" transform=\"scale(1 1) rotate(0) translate(4 206)\">\n",
       "<polygon fill=\"white\" stroke=\"none\" points=\"-4,4 -4,-206 1526.5,-206 1526.5,4 -4,4\"/>\n",
       "<!-- 4885697536 -->\n",
       "<g id=\"node1\" class=\"node\">\n",
       "<title>4885697536</title>\n",
       "<polygon fill=\"none\" stroke=\"black\" points=\"3.75,-165.5 3.75,-201.5 194.25,-201.5 194.25,-165.5 3.75,-165.5\"/>\n",
       "<text text-anchor=\"middle\" x=\"18.5\" y=\"-178.7\" font-family=\"Times,serif\" font-size=\"14.00\">x2</text>\n",
       "<polyline fill=\"none\" stroke=\"black\" points=\"33.25,-166 33.25,-201.5\"/>\n",
       "<text text-anchor=\"middle\" x=\"73.12\" y=\"-178.7\" font-family=\"Times,serif\" font-size=\"14.00\">data 0.0000</text>\n",
       "<polyline fill=\"none\" stroke=\"black\" points=\"113,-166 113,-201.5\"/>\n",
       "<text text-anchor=\"middle\" x=\"153.62\" y=\"-178.7\" font-family=\"Times,serif\" font-size=\"14.00\">grad 0.5000</text>\n",
       "</g>\n",
       "<!-- 4883849856* -->\n",
       "<g id=\"node11\" class=\"node\">\n",
       "<title>4883849856*</title>\n",
       "<ellipse fill=\"none\" stroke=\"black\" cx=\"261\" cy=\"-128.5\" rx=\"27\" ry=\"18\"/>\n",
       "<text text-anchor=\"middle\" x=\"261\" y=\"-123.45\" font-family=\"Times,serif\" font-size=\"14.00\">*</text>\n",
       "</g>\n",
       "<!-- 4885697536&#45;&gt;4883849856* -->\n",
       "<g id=\"edge8\" class=\"edge\">\n",
       "<title>4885697536&#45;&gt;4883849856*</title>\n",
       "<path fill=\"none\" stroke=\"black\" d=\"M172.12,-165.01C180.9,-162.35 189.7,-159.5 198,-156.5 208.09,-152.86 218.82,-148.27 228.47,-143.88\"/>\n",
       "<polygon fill=\"black\" stroke=\"black\" points=\"229.86,-147.09 237.45,-139.69 226.9,-140.75 229.86,-147.09\"/>\n",
       "</g>\n",
       "<!-- 4886318096 -->\n",
       "<g id=\"node2\" class=\"node\">\n",
       "<title>4886318096</title>\n",
       "<polygon fill=\"none\" stroke=\"black\" points=\"690.38,-27.5 690.38,-63.5 874.12,-63.5 874.12,-27.5 690.38,-27.5\"/>\n",
       "<text text-anchor=\"middle\" x=\"701.75\" y=\"-40.7\" font-family=\"Times,serif\" font-size=\"14.00\">b</text>\n",
       "<polyline fill=\"none\" stroke=\"black\" points=\"713.12,-28 713.12,-63.5\"/>\n",
       "<text text-anchor=\"middle\" x=\"753\" y=\"-40.7\" font-family=\"Times,serif\" font-size=\"14.00\">data 6.8814</text>\n",
       "<polyline fill=\"none\" stroke=\"black\" points=\"792.88,-28 792.88,-63.5\"/>\n",
       "<text text-anchor=\"middle\" x=\"833.5\" y=\"-40.7\" font-family=\"Times,serif\" font-size=\"14.00\">grad 0.5000</text>\n",
       "</g>\n",
       "<!-- 4885732992+ -->\n",
       "<g id=\"node9\" class=\"node\">\n",
       "<title>4885732992+</title>\n",
       "<ellipse fill=\"none\" stroke=\"black\" cx=\"966\" cy=\"-72.5\" rx=\"27\" ry=\"18\"/>\n",
       "<text text-anchor=\"middle\" x=\"966\" y=\"-67.45\" font-family=\"Times,serif\" font-size=\"14.00\">+</text>\n",
       "</g>\n",
       "<!-- 4886318096&#45;&gt;4885732992+ -->\n",
       "<g id=\"edge13\" class=\"edge\">\n",
       "<title>4886318096&#45;&gt;4885732992+</title>\n",
       "<path fill=\"none\" stroke=\"black\" d=\"M874.39,-59.04C893.45,-61.87 912.49,-64.7 928.16,-67.03\"/>\n",
       "<polygon fill=\"black\" stroke=\"black\" points=\"927.53,-70.47 937.94,-68.48 928.56,-63.55 927.53,-70.47\"/>\n",
       "</g>\n",
       "<!-- 4885730880 -->\n",
       "<g id=\"node3\" class=\"node\">\n",
       "<title>4885730880</title>\n",
       "<polygon fill=\"none\" stroke=\"black\" points=\"1338.75,-54.5 1338.75,-90.5 1522.5,-90.5 1522.5,-54.5 1338.75,-54.5\"/>\n",
       "<text text-anchor=\"middle\" x=\"1350.12\" y=\"-67.7\" font-family=\"Times,serif\" font-size=\"14.00\">o</text>\n",
       "<polyline fill=\"none\" stroke=\"black\" points=\"1361.5,-55 1361.5,-90.5\"/>\n",
       "<text text-anchor=\"middle\" x=\"1401.38\" y=\"-67.7\" font-family=\"Times,serif\" font-size=\"14.00\">data 0.8569</text>\n",
       "<polyline fill=\"none\" stroke=\"black\" points=\"1441.25,-55 1441.25,-90.5\"/>\n",
       "<text text-anchor=\"middle\" x=\"1481.88\" y=\"-67.7\" font-family=\"Times,serif\" font-size=\"14.00\">grad 1.0000</text>\n",
       "</g>\n",
       "<!-- 4885730880tanh -->\n",
       "<g id=\"node4\" class=\"node\">\n",
       "<title>4885730880tanh</title>\n",
       "<ellipse fill=\"none\" stroke=\"black\" cx=\"1275.75\" cy=\"-72.5\" rx=\"27\" ry=\"18\"/>\n",
       "<text text-anchor=\"middle\" x=\"1275.75\" y=\"-67.45\" font-family=\"Times,serif\" font-size=\"14.00\">tanh</text>\n",
       "</g>\n",
       "<!-- 4885730880tanh&#45;&gt;4885730880 -->\n",
       "<g id=\"edge1\" class=\"edge\">\n",
       "<title>4885730880tanh&#45;&gt;4885730880</title>\n",
       "<path fill=\"none\" stroke=\"black\" d=\"M1303.03,-72.5C1310.17,-72.5 1318.36,-72.5 1327.07,-72.5\"/>\n",
       "<polygon fill=\"black\" stroke=\"black\" points=\"1326.81,-76 1336.81,-72.5 1326.81,-69 1326.81,-76\"/>\n",
       "</g>\n",
       "<!-- 4885699168 -->\n",
       "<g id=\"node5\" class=\"node\">\n",
       "<title>4885699168</title>\n",
       "<polygon fill=\"none\" stroke=\"black\" points=\"0,-55.5 0,-91.5 198,-91.5 198,-55.5 0,-55.5\"/>\n",
       "<text text-anchor=\"middle\" x=\"16.25\" y=\"-68.7\" font-family=\"Times,serif\" font-size=\"14.00\">w1</text>\n",
       "<polyline fill=\"none\" stroke=\"black\" points=\"32.5,-56 32.5,-91.5\"/>\n",
       "<text text-anchor=\"middle\" x=\"74.62\" y=\"-68.7\" font-family=\"Times,serif\" font-size=\"14.00\">data &#45;2.8000</text>\n",
       "<polyline fill=\"none\" stroke=\"black\" points=\"116.75,-56 116.75,-91.5\"/>\n",
       "<text text-anchor=\"middle\" x=\"157.38\" y=\"-68.7\" font-family=\"Times,serif\" font-size=\"14.00\">grad 1.0000</text>\n",
       "</g>\n",
       "<!-- 4886318432* -->\n",
       "<g id=\"node14\" class=\"node\">\n",
       "<title>4886318432*</title>\n",
       "<ellipse fill=\"none\" stroke=\"black\" cx=\"261\" cy=\"-73.5\" rx=\"27\" ry=\"18\"/>\n",
       "<text text-anchor=\"middle\" x=\"261\" y=\"-68.45\" font-family=\"Times,serif\" font-size=\"14.00\">*</text>\n",
       "</g>\n",
       "<!-- 4885699168&#45;&gt;4886318432* -->\n",
       "<g id=\"edge10\" class=\"edge\">\n",
       "<title>4885699168&#45;&gt;4886318432*</title>\n",
       "<path fill=\"none\" stroke=\"black\" d=\"M198.14,-73.5C206.61,-73.5 214.8,-73.5 222.29,-73.5\"/>\n",
       "<polygon fill=\"black\" stroke=\"black\" points=\"222.29,-77 232.29,-73.5 222.29,-70 222.29,-77\"/>\n",
       "</g>\n",
       "<!-- 4883849328 -->\n",
       "<g id=\"node6\" class=\"node\">\n",
       "<title>4883849328</title>\n",
       "<polygon fill=\"none\" stroke=\"black\" points=\"661.5,-82.5 661.5,-118.5 903,-118.5 903,-82.5 661.5,-82.5\"/>\n",
       "<text text-anchor=\"middle\" x=\"699.5\" y=\"-95.7\" font-family=\"Times,serif\" font-size=\"14.00\">x1w1x2w2</text>\n",
       "<polyline fill=\"none\" stroke=\"black\" points=\"737.5,-83 737.5,-118.5\"/>\n",
       "<text text-anchor=\"middle\" x=\"779.62\" y=\"-95.7\" font-family=\"Times,serif\" font-size=\"14.00\">data &#45;5.6000</text>\n",
       "<polyline fill=\"none\" stroke=\"black\" points=\"821.75,-83 821.75,-118.5\"/>\n",
       "<text text-anchor=\"middle\" x=\"862.38\" y=\"-95.7\" font-family=\"Times,serif\" font-size=\"14.00\">grad 0.5000</text>\n",
       "</g>\n",
       "<!-- 4883849328&#45;&gt;4885732992+ -->\n",
       "<g id=\"edge12\" class=\"edge\">\n",
       "<title>4883849328&#45;&gt;4885732992+</title>\n",
       "<path fill=\"none\" stroke=\"black\" d=\"M903.21,-82.02C911.99,-80.67 920.37,-79.38 927.96,-78.21\"/>\n",
       "<polygon fill=\"black\" stroke=\"black\" points=\"928.35,-81.69 937.7,-76.71 927.28,-74.77 928.35,-81.69\"/>\n",
       "</g>\n",
       "<!-- 4883849328+ -->\n",
       "<g id=\"node7\" class=\"node\">\n",
       "<title>4883849328+</title>\n",
       "<ellipse fill=\"none\" stroke=\"black\" cx=\"598.5\" cy=\"-100.5\" rx=\"27\" ry=\"18\"/>\n",
       "<text text-anchor=\"middle\" x=\"598.5\" y=\"-95.45\" font-family=\"Times,serif\" font-size=\"14.00\">+</text>\n",
       "</g>\n",
       "<!-- 4883849328+&#45;&gt;4883849328 -->\n",
       "<g id=\"edge2\" class=\"edge\">\n",
       "<title>4883849328+&#45;&gt;4883849328</title>\n",
       "<path fill=\"none\" stroke=\"black\" d=\"M625.93,-100.5C632.99,-100.5 641.12,-100.5 649.88,-100.5\"/>\n",
       "<polygon fill=\"black\" stroke=\"black\" points=\"649.77,-104 659.77,-100.5 649.77,-97 649.77,-104\"/>\n",
       "</g>\n",
       "<!-- 4885732992 -->\n",
       "<g id=\"node8\" class=\"node\">\n",
       "<title>4885732992</title>\n",
       "<polygon fill=\"none\" stroke=\"black\" points=\"1029,-54.5 1029,-90.5 1212.75,-90.5 1212.75,-54.5 1029,-54.5\"/>\n",
       "<text text-anchor=\"middle\" x=\"1040.38\" y=\"-67.7\" font-family=\"Times,serif\" font-size=\"14.00\">n</text>\n",
       "<polyline fill=\"none\" stroke=\"black\" points=\"1051.75,-55 1051.75,-90.5\"/>\n",
       "<text text-anchor=\"middle\" x=\"1091.62\" y=\"-67.7\" font-family=\"Times,serif\" font-size=\"14.00\">data 1.2814</text>\n",
       "<polyline fill=\"none\" stroke=\"black\" points=\"1131.5,-55 1131.5,-90.5\"/>\n",
       "<text text-anchor=\"middle\" x=\"1172.12\" y=\"-67.7\" font-family=\"Times,serif\" font-size=\"14.00\">grad 0.5000</text>\n",
       "</g>\n",
       "<!-- 4885732992&#45;&gt;4885730880tanh -->\n",
       "<g id=\"edge9\" class=\"edge\">\n",
       "<title>4885732992&#45;&gt;4885730880tanh</title>\n",
       "<path fill=\"none\" stroke=\"black\" d=\"M1213.01,-72.5C1221.39,-72.5 1229.52,-72.5 1236.98,-72.5\"/>\n",
       "<polygon fill=\"black\" stroke=\"black\" points=\"1236.95,-76 1246.95,-72.5 1236.95,-69 1236.95,-76\"/>\n",
       "</g>\n",
       "<!-- 4885732992+&#45;&gt;4885732992 -->\n",
       "<g id=\"edge3\" class=\"edge\">\n",
       "<title>4885732992+&#45;&gt;4885732992</title>\n",
       "<path fill=\"none\" stroke=\"black\" d=\"M993.28,-72.5C1000.42,-72.5 1008.61,-72.5 1017.32,-72.5\"/>\n",
       "<polygon fill=\"black\" stroke=\"black\" points=\"1017.06,-76 1027.06,-72.5 1017.06,-69 1017.06,-76\"/>\n",
       "</g>\n",
       "<!-- 4883849856 -->\n",
       "<g id=\"node10\" class=\"node\">\n",
       "<title>4883849856</title>\n",
       "<polygon fill=\"none\" stroke=\"black\" points=\"326.25,-110.5 326.25,-146.5 533.25,-146.5 533.25,-110.5 326.25,-110.5\"/>\n",
       "<text text-anchor=\"middle\" x=\"349.25\" y=\"-123.7\" font-family=\"Times,serif\" font-size=\"14.00\">x2w2</text>\n",
       "<polyline fill=\"none\" stroke=\"black\" points=\"372.25,-111 372.25,-146.5\"/>\n",
       "<text text-anchor=\"middle\" x=\"412.12\" y=\"-123.7\" font-family=\"Times,serif\" font-size=\"14.00\">data 0.0000</text>\n",
       "<polyline fill=\"none\" stroke=\"black\" points=\"452,-111 452,-146.5\"/>\n",
       "<text text-anchor=\"middle\" x=\"492.62\" y=\"-123.7\" font-family=\"Times,serif\" font-size=\"14.00\">grad 0.5000</text>\n",
       "</g>\n",
       "<!-- 4883849856&#45;&gt;4883849328+ -->\n",
       "<g id=\"edge14\" class=\"edge\">\n",
       "<title>4883849856&#45;&gt;4883849328+</title>\n",
       "<path fill=\"none\" stroke=\"black\" d=\"M533.51,-111.25C543.16,-109.62 552.45,-108.06 560.82,-106.66\"/>\n",
       "<polygon fill=\"black\" stroke=\"black\" points=\"561.2,-110.15 570.48,-105.04 560.04,-103.24 561.2,-110.15\"/>\n",
       "</g>\n",
       "<!-- 4883849856*&#45;&gt;4883849856 -->\n",
       "<g id=\"edge4\" class=\"edge\">\n",
       "<title>4883849856*&#45;&gt;4883849856</title>\n",
       "<path fill=\"none\" stroke=\"black\" d=\"M288.42,-128.5C296.08,-128.5 304.96,-128.5 314.47,-128.5\"/>\n",
       "<polygon fill=\"black\" stroke=\"black\" points=\"314.37,-132 324.37,-128.5 314.37,-125 314.37,-132\"/>\n",
       "</g>\n",
       "<!-- 4885698304 -->\n",
       "<g id=\"node12\" class=\"node\">\n",
       "<title>4885698304</title>\n",
       "<polygon fill=\"none\" stroke=\"black\" points=\"1.5,-0.5 1.5,-36.5 196.5,-36.5 196.5,-0.5 1.5,-0.5\"/>\n",
       "<text text-anchor=\"middle\" x=\"16.25\" y=\"-13.7\" font-family=\"Times,serif\" font-size=\"14.00\">x1</text>\n",
       "<polyline fill=\"none\" stroke=\"black\" points=\"31,-1 31,-36.5\"/>\n",
       "<text text-anchor=\"middle\" x=\"70.88\" y=\"-13.7\" font-family=\"Times,serif\" font-size=\"14.00\">data 2.0000</text>\n",
       "<polyline fill=\"none\" stroke=\"black\" points=\"110.75,-1 110.75,-36.5\"/>\n",
       "<text text-anchor=\"middle\" x=\"153.62\" y=\"-13.7\" font-family=\"Times,serif\" font-size=\"14.00\">grad &#45;1.4000</text>\n",
       "</g>\n",
       "<!-- 4885698304&#45;&gt;4886318432* -->\n",
       "<g id=\"edge11\" class=\"edge\">\n",
       "<title>4885698304&#45;&gt;4886318432*</title>\n",
       "<path fill=\"none\" stroke=\"black\" d=\"M168.91,-36.94C178.74,-39.93 188.67,-43.15 198,-46.5 207.96,-50.07 218.58,-54.47 228.18,-58.68\"/>\n",
       "<polygon fill=\"black\" stroke=\"black\" points=\"226.54,-61.78 237.1,-62.67 229.4,-55.39 226.54,-61.78\"/>\n",
       "</g>\n",
       "<!-- 4886318432 -->\n",
       "<g id=\"node13\" class=\"node\">\n",
       "<title>4886318432</title>\n",
       "<polygon fill=\"none\" stroke=\"black\" points=\"324,-55.5 324,-91.5 535.5,-91.5 535.5,-55.5 324,-55.5\"/>\n",
       "<text text-anchor=\"middle\" x=\"347\" y=\"-68.7\" font-family=\"Times,serif\" font-size=\"14.00\">x1w1</text>\n",
       "<polyline fill=\"none\" stroke=\"black\" points=\"370,-56 370,-91.5\"/>\n",
       "<text text-anchor=\"middle\" x=\"412.12\" y=\"-68.7\" font-family=\"Times,serif\" font-size=\"14.00\">data &#45;5.6000</text>\n",
       "<polyline fill=\"none\" stroke=\"black\" points=\"454.25,-56 454.25,-91.5\"/>\n",
       "<text text-anchor=\"middle\" x=\"494.88\" y=\"-68.7\" font-family=\"Times,serif\" font-size=\"14.00\">grad 0.5000</text>\n",
       "</g>\n",
       "<!-- 4886318432&#45;&gt;4883849328+ -->\n",
       "<g id=\"edge7\" class=\"edge\">\n",
       "<title>4886318432&#45;&gt;4883849328+</title>\n",
       "<path fill=\"none\" stroke=\"black\" d=\"M535.88,-90.52C544.59,-91.93 552.96,-93.29 560.56,-94.52\"/>\n",
       "<polygon fill=\"black\" stroke=\"black\" points=\"559.91,-97.96 570.34,-96.1 561.03,-91.05 559.91,-97.96\"/>\n",
       "</g>\n",
       "<!-- 4886318432*&#45;&gt;4886318432 -->\n",
       "<g id=\"edge5\" class=\"edge\">\n",
       "<title>4886318432*&#45;&gt;4886318432</title>\n",
       "<path fill=\"none\" stroke=\"black\" d=\"M288.42,-73.5C295.52,-73.5 303.68,-73.5 312.42,-73.5\"/>\n",
       "<polygon fill=\"black\" stroke=\"black\" points=\"312.24,-77 322.24,-73.5 312.24,-70 312.24,-77\"/>\n",
       "</g>\n",
       "<!-- 4885699456 -->\n",
       "<g id=\"node15\" class=\"node\">\n",
       "<title>4885699456</title>\n",
       "<polygon fill=\"none\" stroke=\"black\" points=\"2.25,-110.5 2.25,-146.5 195.75,-146.5 195.75,-110.5 2.25,-110.5\"/>\n",
       "<text text-anchor=\"middle\" x=\"18.5\" y=\"-123.7\" font-family=\"Times,serif\" font-size=\"14.00\">w2</text>\n",
       "<polyline fill=\"none\" stroke=\"black\" points=\"34.75,-111 34.75,-146.5\"/>\n",
       "<text text-anchor=\"middle\" x=\"74.62\" y=\"-123.7\" font-family=\"Times,serif\" font-size=\"14.00\">data 1.0000</text>\n",
       "<polyline fill=\"none\" stroke=\"black\" points=\"114.5,-111 114.5,-146.5\"/>\n",
       "<text text-anchor=\"middle\" x=\"155.12\" y=\"-123.7\" font-family=\"Times,serif\" font-size=\"14.00\">grad 0.0000</text>\n",
       "</g>\n",
       "<!-- 4885699456&#45;&gt;4883849856* -->\n",
       "<g id=\"edge6\" class=\"edge\">\n",
       "<title>4885699456&#45;&gt;4883849856*</title>\n",
       "<path fill=\"none\" stroke=\"black\" d=\"M195.84,-128.5C205.14,-128.5 214.15,-128.5 222.32,-128.5\"/>\n",
       "<polygon fill=\"black\" stroke=\"black\" points=\"222.13,-132 232.13,-128.5 222.13,-125 222.13,-132\"/>\n",
       "</g>\n",
       "</g>\n",
       "</svg>\n"
      ],
      "text/plain": [
       "<graphviz.graphs.Digraph at 0x1233f4670>"
      ]
     },
     "execution_count": 82,
     "metadata": {},
     "output_type": "execute_result"
    }
   ],
   "source": [
    "draw_dot(o)"
   ]
  },
  {
   "cell_type": "code",
   "execution_count": 81,
   "metadata": {},
   "outputs": [],
   "source": [
    "o.grad = 1.0\n",
    "n.grad = 0.5\n",
    "x1w1x2w2.grad = 0.5\n",
    "b.grad = 0.5\n",
    "x1w1.grad = 0.5\n",
    "x2w2.grad = 0.5\n",
    "x1.grad = x1w1.grad * w1.data\n",
    "w1.grad = x1w1.grad * x1.data\n",
    "x2.grad = x2w2.grad * w2.data \n",
    "w2.grad = x2w2.grad * x2.data"
   ]
  },
  {
   "cell_type": "code",
   "execution_count": 55,
   "metadata": {},
   "outputs": [
    {
     "data": {
      "text/plain": [
       "0.4999999999999999"
      ]
     },
     "execution_count": 55,
     "metadata": {},
     "output_type": "execute_result"
    }
   ],
   "source": [
    "1 - o.data ** 2\n",
    "# o = tanh(n)\n",
    "# do / dn = 1 - tanh(n)^2 = 1 - o^2"
   ]
  }
 ],
 "metadata": {
  "kernelspec": {
   "display_name": "datasci",
   "language": "python",
   "name": "python3"
  },
  "language_info": {
   "codemirror_mode": {
    "name": "ipython",
    "version": 3
   },
   "file_extension": ".py",
   "mimetype": "text/x-python",
   "name": "python",
   "nbconvert_exporter": "python",
   "pygments_lexer": "ipython3",
   "version": "3.9.18"
  },
  "orig_nbformat": 4
 },
 "nbformat": 4,
 "nbformat_minor": 2
}
