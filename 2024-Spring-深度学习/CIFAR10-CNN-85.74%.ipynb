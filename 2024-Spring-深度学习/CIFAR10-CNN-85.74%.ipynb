{
 "cells": [
  {
   "cell_type": "code",
   "execution_count": 1,
   "id": "8ae2535f",
   "metadata": {
    "_cell_guid": "b1076dfc-b9ad-4769-8c92-a6c4dae69d19",
    "_uuid": "8f2839f25d086af736a60e9eeb907d3b93b6e0e5",
    "execution": {
     "iopub.execute_input": "2024-03-20T15:30:49.770103Z",
     "iopub.status.busy": "2024-03-20T15:30:49.769024Z",
     "iopub.status.idle": "2024-03-20T15:30:50.438937Z",
     "shell.execute_reply": "2024-03-20T15:30:50.438141Z"
    },
    "papermill": {
     "duration": 0.679715,
     "end_time": "2024-03-20T15:30:50.441266",
     "exception": false,
     "start_time": "2024-03-20T15:30:49.761551",
     "status": "completed"
    },
    "tags": []
   },
   "outputs": [],
   "source": [
    "# This Python 3 environment comes with many helpful analytics libraries installed\n",
    "# It is defined by the kaggle/python Docker image: https://github.com/kaggle/docker-python\n",
    "# For example, here's several helpful packages to load\n",
    "\n",
    "import numpy as np # linear algebra\n",
    "import pandas as pd # data processing, CSV file I/O (e.g. pd.read_csv)\n",
    "\n",
    "# Input data files are available in the read-only \"../input/\" directory\n",
    "# For example, running this (by clicking run or pressing Shift+Enter) will list all files under the input directory\n",
    "\n",
    "import os\n",
    "for dirname, _, filenames in os.walk('/kaggle/input'):\n",
    "    for filename in filenames:\n",
    "        print(os.path.join(dirname, filename))\n",
    "\n",
    "# You can write up to 20GB to the current directory (/kaggle/working/) that gets preserved as output when you create a version using \"Save & Run All\" \n",
    "# You can also write temporary files to /kaggle/temp/, but they won't be saved outside of the current session"
   ]
  },
  {
   "cell_type": "code",
   "execution_count": 2,
   "id": "d7f1a7db",
   "metadata": {
    "execution": {
     "iopub.execute_input": "2024-03-20T15:30:50.454679Z",
     "iopub.status.busy": "2024-03-20T15:30:50.454295Z",
     "iopub.status.idle": "2024-03-20T15:31:14.970613Z",
     "shell.execute_reply": "2024-03-20T15:31:14.969544Z"
    },
    "papermill": {
     "duration": 24.524842,
     "end_time": "2024-03-20T15:31:14.973128",
     "exception": false,
     "start_time": "2024-03-20T15:30:50.448286",
     "status": "completed"
    },
    "tags": []
   },
   "outputs": [
    {
     "name": "stdout",
     "output_type": "stream",
     "text": [
      "Config option `kernel_spec_manager_class` not recognized by `InstallLabExtensionApp`.\r\n",
      "\u001b[33m(Deprecated) Installing extensions with the jupyter labextension install command is now deprecated and will be removed in a future major version of JupyterLab.\r\n",
      "\r\n",
      "Users should manage prebuilt extensions with package managers like pip and conda, and extension authors are encouraged to distribute their extensions as prebuilt packages \u001b[0m\r\n",
      "\u001b[33m[W 2024-03-20 15:30:54.039 LabApp]\u001b[m Config option `kernel_spec_manager_class` not recognized by `LabApp`.\r\n",
      "-\b\\\b|\b/\b-\b\\\b|\b/\b-\b\\\b|\b/\b-\b\\\b|\b/\b-\b\\\b|\b/\b-\b\\\b|\b/\b-\b\\\b|\b/\b-\b/opt/conda/lib/python3.10/site-packages/jupyterlab/debuglog.py:56: UserWarning: An error occurred.\r\n",
      "  warnings.warn(\"An error occurred.\")\r\n",
      "/opt/conda/lib/python3.10/site-packages/jupyterlab/debuglog.py:57: UserWarning: ValueError: \"@jupyter-widgets/jupyterlab-manage\" is not a valid npm package\r\n",
      "  warnings.warn(msg[-1].strip())\r\n",
      "/opt/conda/lib/python3.10/site-packages/jupyterlab/debuglog.py:58: UserWarning: See the log file for details: /tmp/jupyterlab-debug-fy467v87.log\r\n",
      "  warnings.warn(f\"See the log file for details: {log_path!s}\")\r\n"
     ]
    }
   ],
   "source": [
    "!jupyter labextension install @jupyter-widgets/jupyterlab-manage\n",
    "!pip install -q wandb --upgrade"
   ]
  },
  {
   "cell_type": "code",
   "execution_count": 3,
   "id": "8d48141c",
   "metadata": {
    "execution": {
     "iopub.execute_input": "2024-03-20T15:31:14.990536Z",
     "iopub.status.busy": "2024-03-20T15:31:14.990181Z",
     "iopub.status.idle": "2024-03-20T15:31:14.994725Z",
     "shell.execute_reply": "2024-03-20T15:31:14.993882Z"
    },
    "papermill": {
     "duration": 0.015334,
     "end_time": "2024-03-20T15:31:14.996584",
     "exception": false,
     "start_time": "2024-03-20T15:31:14.981250",
     "status": "completed"
    },
    "tags": []
   },
   "outputs": [],
   "source": [
    "os.environ[\"WANDB_API_KEY\"] = \"xxxxxxxxxxxxxxxxxxxxxxxxxxxxxxxxxxxxxxxxxxxxxx\""
   ]
  },
  {
   "cell_type": "code",
   "execution_count": 4,
   "id": "460f586d",
   "metadata": {
    "execution": {
     "iopub.execute_input": "2024-03-20T15:31:15.013375Z",
     "iopub.status.busy": "2024-03-20T15:31:15.013127Z",
     "iopub.status.idle": "2024-03-20T15:31:22.051406Z",
     "shell.execute_reply": "2024-03-20T15:31:22.050526Z"
    },
    "papermill": {
     "duration": 7.049245,
     "end_time": "2024-03-20T15:31:22.053752",
     "exception": false,
     "start_time": "2024-03-20T15:31:15.004507",
     "status": "completed"
    },
    "tags": []
   },
   "outputs": [],
   "source": [
    "import torch\n",
    "import torch.nn as nn\n",
    "import torch.nn.functional as F\n",
    "import torch.optim as optim\n",
    "import torchvision\n",
    "import torchvision.transforms as transforms\n",
    "from torch.utils.data import DataLoader, SubsetRandomSampler\n",
    "import wandb"
   ]
  },
  {
   "cell_type": "code",
   "execution_count": 5,
   "id": "63971158",
   "metadata": {
    "execution": {
     "iopub.execute_input": "2024-03-20T15:31:22.070711Z",
     "iopub.status.busy": "2024-03-20T15:31:22.070389Z",
     "iopub.status.idle": "2024-03-20T15:31:22.114573Z",
     "shell.execute_reply": "2024-03-20T15:31:22.113892Z"
    },
    "papermill": {
     "duration": 0.054751,
     "end_time": "2024-03-20T15:31:22.116532",
     "exception": false,
     "start_time": "2024-03-20T15:31:22.061781",
     "status": "completed"
    },
    "tags": []
   },
   "outputs": [],
   "source": [
    "class MLPNet(nn.Module):\n",
    "    def __init__(self):\n",
    "        super(MLPNet, self).__init__()\n",
    "        # CIFAR-10 images are 3x32x32, flatten them to 3072-dimensional vectors\n",
    "        self.fc1 = nn.Linear(3*32*32, 512)\n",
    "        self.fc2 = nn.Linear(512, 256)\n",
    "        self.fc3 = nn.Linear(256, 10) # 10 classes in CIFAR-10\n",
    "    \n",
    "    def forward(self, x):\n",
    "        x = torch.flatten(x, 1) # flatten all dimensions except batch\n",
    "        x = F.relu(self.fc1(x))\n",
    "        x = F.relu(self.fc2(x))\n",
    "        x = self.fc3(x)\n",
    "        return x\n",
    "\n",
    "mlp_net = MLPNet()"
   ]
  },
  {
   "cell_type": "code",
   "execution_count": 6,
   "id": "babefadb",
   "metadata": {
    "execution": {
     "iopub.execute_input": "2024-03-20T15:31:22.133291Z",
     "iopub.status.busy": "2024-03-20T15:31:22.133020Z",
     "iopub.status.idle": "2024-03-20T15:31:22.164442Z",
     "shell.execute_reply": "2024-03-20T15:31:22.163782Z"
    },
    "papermill": {
     "duration": 0.041802,
     "end_time": "2024-03-20T15:31:22.166350",
     "exception": false,
     "start_time": "2024-03-20T15:31:22.124548",
     "status": "completed"
    },
    "tags": []
   },
   "outputs": [],
   "source": [
    "class CNNNet(nn.Module):\n",
    "    def __init__(self):\n",
    "        super(CNNNet, self).__init__()\n",
    "        self.conv1 = nn.Conv2d(3, 32, 5, stride=1) \n",
    "        self.bn1 = nn.BatchNorm2d(32)  # batch-norm\n",
    "        self.pool = nn.MaxPool2d(2, 2)\n",
    "        self.conv2 = nn.Conv2d(32, 64, 5)  # add filter num\n",
    "        self.bn2 = nn.BatchNorm2d(64)  # batch-norm\n",
    "        self.fc1 = nn.Linear(64 * 5 * 5, 120)  \n",
    "        self.dropout = nn.Dropout(0.5)  # dropout\n",
    "        self.fc2 = nn.Linear(120, 84)\n",
    "        self.fc3 = nn.Linear(84, 10)\n",
    "    \n",
    "    def forward(self, x):\n",
    "        x = self.pool(F.relu(self.bn1(self.conv1(x))))\n",
    "        x = self.pool(F.relu(self.bn2(self.conv2(x))))\n",
    "        x = torch.flatten(x, 1)\n",
    "        x = F.relu(self.fc1(x))\n",
    "        x = self.dropout(x)  # apply dropout\n",
    "        x = F.relu(self.fc2(x))\n",
    "        x = self.fc3(x)\n",
    "        return x\n",
    "\n",
    "cnn_net = CNNNet()"
   ]
  },
  {
   "cell_type": "code",
   "execution_count": 7,
   "id": "aa6dc90b",
   "metadata": {
    "execution": {
     "iopub.execute_input": "2024-03-20T15:31:22.182919Z",
     "iopub.status.busy": "2024-03-20T15:31:22.182649Z",
     "iopub.status.idle": "2024-03-20T15:31:22.433036Z",
     "shell.execute_reply": "2024-03-20T15:31:22.432212Z"
    },
    "papermill": {
     "duration": 0.261234,
     "end_time": "2024-03-20T15:31:22.435283",
     "exception": false,
     "start_time": "2024-03-20T15:31:22.174049",
     "status": "completed"
    },
    "tags": []
   },
   "outputs": [],
   "source": [
    "class CNNNet2(nn.Module):\n",
    "    def __init__(self):\n",
    "        super().__init__()\n",
    "        self.conv1 = nn.Conv2d(3, 32, 5)\n",
    "        self.bn1 = nn.BatchNorm2d(32)\n",
    "        self.pool = nn.MaxPool2d(2, 2)\n",
    "        self.conv2 = nn.Conv2d(32, 128, 3)\n",
    "        self.bn2 = nn.BatchNorm2d(128)\n",
    "        self.dropout = nn.Dropout(p=0.2) \n",
    "        self.conv3 = nn.Conv2d(128, 256, 3)\n",
    "        self.bn3 = nn.BatchNorm2d(256)\n",
    "        self.conv4 = nn.Conv2d(256, 256, 3)\n",
    "        self.bn4 = nn.BatchNorm2d(256)\n",
    "        self.conv5 = nn.Conv2d(256, 512, 3)\n",
    "        self.bn5 = nn.BatchNorm2d(512)\n",
    "        self.conv6 = nn.Conv2d(512, 512, 3)\n",
    "        self.bn6 = nn.BatchNorm2d(512)\n",
    "        self.fc1 = nn.Linear(512 * 3 * 3, 4096)\n",
    "        self.bn_fc1 = nn.BatchNorm1d(4096)\n",
    "        self.fc2 = nn.Linear(4096, 256)\n",
    "        self.bn_fc2 = nn.BatchNorm1d(256)\n",
    "        self.fc3 = nn.Linear(256, 10)\n",
    "\n",
    "    def forward(self, x):\n",
    "        x = self.bn1(F.gelu(self.conv1(x)))\n",
    "        x = self.dropout(self.bn2(F.gelu(self.conv2(x))))\n",
    "        x = self.pool(self.bn3(F.gelu(self.conv3(x))))\n",
    "        x = self.dropout(self.bn4(F.gelu(self.conv4(x))))\n",
    "        x = self.bn5(F.gelu(self.conv5(x)))\n",
    "        x = self.dropout(self.pool(self.bn6(F.gelu(self.conv6(x)))))\n",
    "        x = torch.flatten(x, 1)\n",
    "        x = F.relu(self.bn_fc1(self.fc1(x)))\n",
    "        x = F.relu(self.bn_fc2(self.fc2(x)))\n",
    "        x = self.fc3(x)\n",
    "        return x\n",
    "\n",
    "cnn_net2 = CNNNet2()"
   ]
  },
  {
   "cell_type": "code",
   "execution_count": null,
   "id": "e920c35e",
   "metadata": {
    "papermill": {
     "duration": 0.00765,
     "end_time": "2024-03-20T15:31:22.450836",
     "exception": false,
     "start_time": "2024-03-20T15:31:22.443186",
     "status": "completed"
    },
    "tags": []
   },
   "outputs": [],
   "source": []
  },
  {
   "cell_type": "code",
   "execution_count": 8,
   "id": "2dcba19b",
   "metadata": {
    "execution": {
     "iopub.execute_input": "2024-03-20T15:31:22.467998Z",
     "iopub.status.busy": "2024-03-20T15:31:22.467399Z",
     "iopub.status.idle": "2024-03-20T15:31:22.475809Z",
     "shell.execute_reply": "2024-03-20T15:31:22.474917Z"
    },
    "papermill": {
     "duration": 0.018934,
     "end_time": "2024-03-20T15:31:22.477698",
     "exception": false,
     "start_time": "2024-03-20T15:31:22.458764",
     "status": "completed"
    },
    "tags": []
   },
   "outputs": [],
   "source": [
    "class EarlyStopping:\n",
    "    \"\"\"提前中止训练\"\"\"\n",
    "    def __init__(self, patience=7, verbose=False, delta=0):\n",
    "        \"\"\"\n",
    "        parameters:\n",
    "            patience (int): 损失提高的迭代轮数，超过这个值后训练会停止\n",
    "            verbose (bool): 如果为True，打印一条信息指示提前中止\n",
    "            delta (float): 提升的最小变化，小于这个值被认为是没有提升\n",
    "        \"\"\"\n",
    "        self.patience = patience\n",
    "        self.verbose = verbose\n",
    "        self.counter = 0\n",
    "        self.best_score = None\n",
    "        self.early_stop = False\n",
    "        self.val_loss_min = float(\"inf\")\n",
    "        self.delta = delta\n",
    "\n",
    "    def __call__(self, val_loss):\n",
    "        score = -val_loss\n",
    "\n",
    "        if self.best_score is None:\n",
    "            self.best_score = score\n",
    "        elif score < self.best_score + self.delta:\n",
    "            self.counter += 1\n",
    "            print(f\"EarlyStopping counter: {self.counter} out of {self.patience}\")\n",
    "            if self.counter >= self.patience:\n",
    "                self.early_stop = True\n",
    "        else:\n",
    "            self.best_score = score\n",
    "            self.counter = 0"
   ]
  },
  {
   "cell_type": "code",
   "execution_count": 9,
   "id": "dab66228",
   "metadata": {
    "execution": {
     "iopub.execute_input": "2024-03-20T15:31:22.495568Z",
     "iopub.status.busy": "2024-03-20T15:31:22.495261Z",
     "iopub.status.idle": "2024-03-20T15:31:22.505750Z",
     "shell.execute_reply": "2024-03-20T15:31:22.504832Z"
    },
    "papermill": {
     "duration": 0.022372,
     "end_time": "2024-03-20T15:31:22.507731",
     "exception": false,
     "start_time": "2024-03-20T15:31:22.485359",
     "status": "completed"
    },
    "tags": []
   },
   "outputs": [],
   "source": [
    "def load_data(batch_size=16):\n",
    "    # 仅用于训练集的数据增强变换\n",
    "    train_transform = transforms.Compose([\n",
    "        transforms.RandomHorizontalFlip(),  # 随机水平翻转图像\n",
    "        transforms.RandomRotation(10),      # 随机旋转图像±10度\n",
    "        transforms.ToTensor(),\n",
    "        transforms.Normalize((0.5, 0.5, 0.5), (0.5, 0.5, 0.5))\n",
    "    ])\n",
    "\n",
    "    # 验证集和测试集的变换，没有包含随机性操作\n",
    "    test_transform = transforms.Compose([\n",
    "        transforms.ToTensor(),\n",
    "        transforms.Normalize((0.5, 0.5, 0.5), (0.5, 0.5, 0.5))\n",
    "    ])\n",
    "\n",
    "    full_trainset = torchvision.datasets.CIFAR10(root='./data', train=True,\n",
    "                                                 download=True, transform=train_transform)\n",
    "\n",
    "    num_train = len(full_trainset)\n",
    "    indices = list(range(num_train))\n",
    "    split = int(np.floor(0.1 * num_train))  # 10%的数据用作验证集\n",
    "\n",
    "    np.random.shuffle(indices)\n",
    "\n",
    "    train_idx, val_idx = indices[split:], indices[:split]\n",
    "    train_sampler = SubsetRandomSampler(train_idx)\n",
    "    val_sampler = SubsetRandomSampler(val_idx)\n",
    "\n",
    "    trainloader = torch.utils.data.DataLoader(full_trainset, batch_size=batch_size,\n",
    "                                              sampler=train_sampler, num_workers=2)\n",
    "    # 使用full_trainset但应用test_transform进行数据加载\n",
    "    valloader = torch.utils.data.DataLoader(torchvision.datasets.CIFAR10(root='./data', train=True,\n",
    "                                                  download=True, transform=test_transform), batch_size=batch_size,\n",
    "                                             sampler=val_sampler, num_workers=2)\n",
    "\n",
    "    testset = torchvision.datasets.CIFAR10(root='./data', train=False,\n",
    "                                           download=True, transform=test_transform)\n",
    "    testloader = torch.utils.data.DataLoader(testset, batch_size=batch_size,\n",
    "                                             shuffle=False, num_workers=2)\n",
    "    return trainloader, valloader, testloader"
   ]
  },
  {
   "cell_type": "code",
   "execution_count": 10,
   "id": "c4b0c2d3",
   "metadata": {
    "execution": {
     "iopub.execute_input": "2024-03-20T15:31:22.524478Z",
     "iopub.status.busy": "2024-03-20T15:31:22.524198Z",
     "iopub.status.idle": "2024-03-20T15:31:22.539354Z",
     "shell.execute_reply": "2024-03-20T15:31:22.538672Z"
    },
    "papermill": {
     "duration": 0.025888,
     "end_time": "2024-03-20T15:31:22.541318",
     "exception": false,
     "start_time": "2024-03-20T15:31:22.515430",
     "status": "completed"
    },
    "tags": []
   },
   "outputs": [],
   "source": [
    "def train_and_test(net, trainloader, valloader, testloader, device, epochs=20):\n",
    "    early_stopping = EarlyStopping(patience=15, verbose=True)\n",
    "    \n",
    "    optimizer = optim.AdamW(net.parameters()) # use AdamW instead of SGD\n",
    "    criterion = nn.CrossEntropyLoss()\n",
    "\n",
    "    net.to(device)\n",
    "\n",
    "    for epoch in range(epochs):\n",
    "        net.train()\n",
    "        running_loss = 0.0\n",
    "        total_train = 0\n",
    "        correct_train = 0\n",
    "        for inputs, labels in trainloader:\n",
    "            inputs, labels = inputs.to(device), labels.to(device)\n",
    "\n",
    "            optimizer.zero_grad()\n",
    "\n",
    "            outputs = net(inputs)\n",
    "            loss = criterion(outputs, labels)\n",
    "            loss.backward()\n",
    "            optimizer.step()\n",
    "\n",
    "            running_loss += loss.item()\n",
    "            _, predicted = torch.max(outputs.data, 1)\n",
    "            total_train += labels.size(0)\n",
    "            correct_train += (predicted == labels).sum().item()\n",
    "\n",
    "        train_loss = running_loss / len(trainloader)\n",
    "        train_accuracy = correct_train / total_train\n",
    "\n",
    "        # val\n",
    "        net.eval()\n",
    "        val_loss = 0.0\n",
    "        correct_val = 0\n",
    "        total_val = 0\n",
    "        with torch.no_grad():\n",
    "            for inputs, labels in valloader:\n",
    "                inputs, labels = inputs.to(device), labels.to(device)\n",
    "                outputs = net(inputs)\n",
    "                loss = criterion(outputs, labels)\n",
    "                val_loss += loss.item()\n",
    "\n",
    "                _, predicted = torch.max(outputs.data, 1)\n",
    "                total_val += labels.size(0)\n",
    "                correct_val += (predicted == labels).sum().item()\n",
    "\n",
    "        val_loss /= len(valloader)\n",
    "        val_accuracy = correct_val / total_val\n",
    "\n",
    "        print(f\"Epoch {epoch+1}, Train Loss: {train_loss}, Train Acc: {train_accuracy}, Val Loss: {val_loss}, Val Acc: {val_accuracy}\")\n",
    "        \n",
    "        wandb.log({'train_loss': train_loss, \n",
    "                   'train_accuracy': train_accuracy, \n",
    "                   'val_loss': val_loss, \n",
    "                   'val_accuracy': val_accuracy})\n",
    "\n",
    "        # early stop method\n",
    "        early_stopping(val_loss)\n",
    "        if early_stopping.early_stop:\n",
    "            print(\"Early stopping\")\n",
    "            break\n",
    "            \n",
    "    print('Finished Training')\n",
    "\n",
    "    \n",
    "    PATH = './cifar_net.pth'\n",
    "    torch.save(net.state_dict(), PATH)\n",
    "\n",
    "    # test\n",
    "    net.eval()  \n",
    "    correct = 0\n",
    "    total = 0\n",
    "    with torch.no_grad(): \n",
    "        for data in testloader:\n",
    "            images, labels = data\n",
    "            images, labels = images.to(device), labels.to(device)\n",
    "\n",
    "            # 通过网络运行图像计算输出\n",
    "            outputs = net(images)\n",
    "            # 选择能量最高的类作为预测结果\n",
    "            _, predicted = torch.max(outputs.data, 1)\n",
    "            total += labels.size(0)\n",
    "            correct += (predicted == labels).sum().item()\n",
    "\n",
    "    accuracy = 100 * correct / total\n",
    "    print(f'Accuracy of the network on the 10000 test images: {accuracy:.2f} %')\n",
    "\n",
    "    wandb.log({\"test_accuracy\": accuracy})"
   ]
  },
  {
   "cell_type": "code",
   "execution_count": 11,
   "id": "c2834283",
   "metadata": {
    "execution": {
     "iopub.execute_input": "2024-03-20T15:31:22.557825Z",
     "iopub.status.busy": "2024-03-20T15:31:22.557529Z",
     "iopub.status.idle": "2024-03-20T15:31:23.566012Z",
     "shell.execute_reply": "2024-03-20T15:31:23.564939Z"
    },
    "papermill": {
     "duration": 1.019346,
     "end_time": "2024-03-20T15:31:23.568401",
     "exception": false,
     "start_time": "2024-03-20T15:31:22.549055",
     "status": "completed"
    },
    "tags": []
   },
   "outputs": [
    {
     "name": "stdout",
     "output_type": "stream",
     "text": [
      "Wed Mar 20 15:31:23 2024       \r\n",
      "+---------------------------------------------------------------------------------------+\r\n",
      "| NVIDIA-SMI 535.129.03             Driver Version: 535.129.03   CUDA Version: 12.2     |\r\n",
      "|-----------------------------------------+----------------------+----------------------+\r\n",
      "| GPU  Name                 Persistence-M | Bus-Id        Disp.A | Volatile Uncorr. ECC |\r\n",
      "| Fan  Temp   Perf          Pwr:Usage/Cap |         Memory-Usage | GPU-Util  Compute M. |\r\n",
      "|                                         |                      |               MIG M. |\r\n",
      "|=========================================+======================+======================|\r\n",
      "|   0  Tesla P100-PCIE-16GB           Off | 00000000:00:04.0 Off |                    0 |\r\n",
      "| N/A   31C    P0              26W / 250W |      0MiB / 16384MiB |      0%      Default |\r\n",
      "|                                         |                      |                  N/A |\r\n",
      "+-----------------------------------------+----------------------+----------------------+\r\n",
      "                                                                                         \r\n",
      "+---------------------------------------------------------------------------------------+\r\n",
      "| Processes:                                                                            |\r\n",
      "|  GPU   GI   CI        PID   Type   Process name                            GPU Memory |\r\n",
      "|        ID   ID                                                             Usage      |\r\n",
      "|=======================================================================================|\r\n",
      "|  No running processes found                                                           |\r\n",
      "+---------------------------------------------------------------------------------------+\r\n"
     ]
    }
   ],
   "source": [
    "!nvidia-smi"
   ]
  },
  {
   "cell_type": "code",
   "execution_count": 12,
   "id": "dcfefb71",
   "metadata": {
    "execution": {
     "iopub.execute_input": "2024-03-20T15:31:23.586672Z",
     "iopub.status.busy": "2024-03-20T15:31:23.586059Z",
     "iopub.status.idle": "2024-03-20T15:31:23.593043Z",
     "shell.execute_reply": "2024-03-20T15:31:23.592126Z"
    },
    "papermill": {
     "duration": 0.017945,
     "end_time": "2024-03-20T15:31:23.594919",
     "exception": false,
     "start_time": "2024-03-20T15:31:23.576974",
     "status": "completed"
    },
    "tags": []
   },
   "outputs": [],
   "source": [
    "def main(model_type, epochs):\n",
    "    device = torch.device(\"cuda:0\" if torch.cuda.is_available() else \"cpu\")\n",
    "    trainloader, valloader, testloader = load_data()\n",
    "\n",
    "    if model_type == 'mlp':\n",
    "        net = MLPNet()\n",
    "    elif model_type == 'cnn':\n",
    "        net = CNNNet()\n",
    "    elif model_type == 'cnn2':\n",
    "        net = CNNNet2()\n",
    "    else:\n",
    "        raise ValueError(\"Unsupported model type. Choose 'mlp' or 'cnn'.\")\n",
    "    wandb.init(project=\"cifar10_classification\")\n",
    "    train_and_test(net, trainloader, valloader, testloader, device, epochs)\n",
    "    wandb.finish()"
   ]
  },
  {
   "cell_type": "code",
   "execution_count": 13,
   "id": "691e872d",
   "metadata": {
    "execution": {
     "iopub.execute_input": "2024-03-20T15:31:23.611929Z",
     "iopub.status.busy": "2024-03-20T15:31:23.611145Z",
     "iopub.status.idle": "2024-03-20T15:58:33.419881Z",
     "shell.execute_reply": "2024-03-20T15:58:33.418696Z"
    },
    "papermill": {
     "duration": 1629.819971,
     "end_time": "2024-03-20T15:58:33.422657",
     "exception": false,
     "start_time": "2024-03-20T15:31:23.602686",
     "status": "completed"
    },
    "tags": []
   },
   "outputs": [
    {
     "name": "stdout",
     "output_type": "stream",
     "text": [
      "Downloading https://www.cs.toronto.edu/~kriz/cifar-10-python.tar.gz to ./data/cifar-10-python.tar.gz\n"
     ]
    },
    {
     "name": "stderr",
     "output_type": "stream",
     "text": [
      "100%|██████████| 170498071/170498071 [00:15<00:00, 11184212.35it/s]\n"
     ]
    },
    {
     "name": "stdout",
     "output_type": "stream",
     "text": [
      "Extracting ./data/cifar-10-python.tar.gz to ./data\n",
      "Files already downloaded and verified\n",
      "Files already downloaded and verified\n"
     ]
    },
    {
     "name": "stderr",
     "output_type": "stream",
     "text": [
      "\u001b[34m\u001b[1mwandb\u001b[0m: Currently logged in as: \u001b[33mnagi-ovo\u001b[0m. Use \u001b[1m`wandb login --relogin`\u001b[0m to force relogin\n",
      "\u001b[34m\u001b[1mwandb\u001b[0m: Tracking run with wandb version 0.16.4\n",
      "\u001b[34m\u001b[1mwandb\u001b[0m: Run data is saved locally in \u001b[35m\u001b[1m/kaggle/working/wandb/run-20240320_153145-5nymeh7g\u001b[0m\n",
      "\u001b[34m\u001b[1mwandb\u001b[0m: Run \u001b[1m`wandb offline`\u001b[0m to turn off syncing.\n",
      "\u001b[34m\u001b[1mwandb\u001b[0m: Syncing run \u001b[33mrural-field-29\u001b[0m\n",
      "\u001b[34m\u001b[1mwandb\u001b[0m: ⭐️ View project at \u001b[34m\u001b[4mhttps://wandb.ai/nagi-ovo/cifar10_classification\u001b[0m\n",
      "\u001b[34m\u001b[1mwandb\u001b[0m: 🚀 View run at \u001b[34m\u001b[4mhttps://wandb.ai/nagi-ovo/cifar10_classification/runs/5nymeh7g\u001b[0m\n"
     ]
    },
    {
     "name": "stdout",
     "output_type": "stream",
     "text": [
      "Epoch 1, Train Loss: 1.5382902543187946, Train Acc: 0.4444888888888889, Val Loss: 1.1656603637023475, Val Acc: 0.5804\n",
      "Epoch 2, Train Loss: 1.1535790202522718, Train Acc: 0.5936222222222223, Val Loss: 0.959811592873293, Val Acc: 0.6674\n",
      "Epoch 3, Train Loss: 0.9686891496276838, Train Acc: 0.6616444444444445, Val Loss: 0.7737962764006453, Val Acc: 0.7324\n",
      "Epoch 4, Train Loss: 0.8464099498266349, Train Acc: 0.7050666666666666, Val Loss: 0.7085788064776137, Val Acc: 0.7536\n",
      "Epoch 5, Train Loss: 0.7629352746815432, Train Acc: 0.7366888888888888, Val Loss: 0.6506390474474849, Val Acc: 0.7732\n",
      "Epoch 6, Train Loss: 0.6855441344047076, Train Acc: 0.7633333333333333, Val Loss: 0.5936773314881629, Val Acc: 0.7894\n",
      "Epoch 7, Train Loss: 0.6315463796904237, Train Acc: 0.7833333333333333, Val Loss: 0.5496586030140852, Val Acc: 0.8098\n",
      "Epoch 8, Train Loss: 0.5835678021132501, Train Acc: 0.8013777777777777, Val Loss: 0.5275677310201687, Val Acc: 0.8148\n",
      "Epoch 9, Train Loss: 0.5443927664104472, Train Acc: 0.8125777777777777, Val Loss: 0.5187987030837864, Val Acc: 0.8218\n",
      "Epoch 10, Train Loss: 0.515683349960911, Train Acc: 0.8224666666666667, Val Loss: 0.48951376641329863, Val Acc: 0.8314\n",
      "Epoch 11, Train Loss: 0.4826113794606816, Train Acc: 0.8328222222222222, Val Loss: 0.4796787218187754, Val Acc: 0.841\n",
      "Epoch 12, Train Loss: 0.452833067752895, Train Acc: 0.8442888888888889, Val Loss: 0.48059315620043785, Val Acc: 0.8412\n",
      "EarlyStopping counter: 1 out of 15\n",
      "Epoch 13, Train Loss: 0.4220988353918953, Train Acc: 0.8534444444444444, Val Loss: 0.45723072506082707, Val Acc: 0.848\n",
      "Epoch 14, Train Loss: 0.40721166621823457, Train Acc: 0.8597111111111111, Val Loss: 0.472960357075206, Val Acc: 0.8414\n",
      "EarlyStopping counter: 1 out of 15\n",
      "Epoch 15, Train Loss: 0.3896486144916807, Train Acc: 0.8634444444444445, Val Loss: 0.45639629550159166, Val Acc: 0.8454\n",
      "Epoch 16, Train Loss: 0.3732457891334387, Train Acc: 0.8682666666666666, Val Loss: 0.46148472797042267, Val Acc: 0.846\n",
      "EarlyStopping counter: 1 out of 15\n",
      "Epoch 17, Train Loss: 0.35010840216836303, Train Acc: 0.8770666666666667, Val Loss: 0.4736632811316191, Val Acc: 0.8432\n",
      "EarlyStopping counter: 2 out of 15\n",
      "Epoch 18, Train Loss: 0.33820554411943926, Train Acc: 0.8826666666666667, Val Loss: 0.45471886002693696, Val Acc: 0.8472\n",
      "Epoch 19, Train Loss: 0.327903229199281, Train Acc: 0.8872444444444444, Val Loss: 0.45576202519499837, Val Acc: 0.8504\n",
      "EarlyStopping counter: 1 out of 15\n",
      "Epoch 20, Train Loss: 0.31307774582010994, Train Acc: 0.8901111111111111, Val Loss: 0.43968926822415555, Val Acc: 0.8546\n",
      "Epoch 21, Train Loss: 0.30666573218891374, Train Acc: 0.8919111111111111, Val Loss: 0.4478221300263374, Val Acc: 0.8552\n",
      "EarlyStopping counter: 1 out of 15\n",
      "Epoch 22, Train Loss: 0.29411680601011475, Train Acc: 0.8975777777777778, Val Loss: 0.4363288037336101, Val Acc: 0.8624\n",
      "Epoch 23, Train Loss: 0.2858884433172498, Train Acc: 0.8998, Val Loss: 0.4363524941638255, Val Acc: 0.8578\n",
      "EarlyStopping counter: 1 out of 15\n",
      "Epoch 24, Train Loss: 0.2700306776804413, Train Acc: 0.9062888888888889, Val Loss: 0.47074417726169476, Val Acc: 0.8504\n",
      "EarlyStopping counter: 2 out of 15\n",
      "Epoch 25, Train Loss: 0.2718030651627387, Train Acc: 0.9052666666666667, Val Loss: 0.4445374739555696, Val Acc: 0.8644\n",
      "EarlyStopping counter: 3 out of 15\n",
      "Epoch 26, Train Loss: 0.2592957525895137, Train Acc: 0.91, Val Loss: 0.43210889421962795, Val Acc: 0.8658\n",
      "Epoch 27, Train Loss: 0.25167079765278116, Train Acc: 0.9128, Val Loss: 0.44540093490145743, Val Acc: 0.8594\n",
      "EarlyStopping counter: 1 out of 15\n",
      "Epoch 28, Train Loss: 0.24543229366480177, Train Acc: 0.9145555555555556, Val Loss: 0.4582782894188461, Val Acc: 0.8626\n",
      "EarlyStopping counter: 2 out of 15\n",
      "Epoch 29, Train Loss: 0.24501875177928975, Train Acc: 0.9142, Val Loss: 0.45426449905664396, Val Acc: 0.86\n",
      "EarlyStopping counter: 3 out of 15\n",
      "Epoch 30, Train Loss: 0.2360444900815147, Train Acc: 0.9191333333333334, Val Loss: 0.4658734580016912, Val Acc: 0.8596\n",
      "EarlyStopping counter: 4 out of 15\n",
      "Epoch 31, Train Loss: 0.2318617704985256, Train Acc: 0.9187555555555555, Val Loss: 0.4576408433171507, Val Acc: 0.859\n",
      "EarlyStopping counter: 5 out of 15\n",
      "Epoch 32, Train Loss: 0.22751669337677677, Train Acc: 0.9215111111111111, Val Loss: 0.45614142573108307, Val Acc: 0.859\n",
      "EarlyStopping counter: 6 out of 15\n",
      "Epoch 33, Train Loss: 0.2280762060066977, Train Acc: 0.9210222222222222, Val Loss: 0.45796877422188514, Val Acc: 0.8574\n",
      "EarlyStopping counter: 7 out of 15\n",
      "Epoch 34, Train Loss: 0.2203436653615448, Train Acc: 0.9231555555555555, Val Loss: 0.4520339953204313, Val Acc: 0.8658\n",
      "EarlyStopping counter: 8 out of 15\n",
      "Epoch 35, Train Loss: 0.21702185327649365, Train Acc: 0.9231333333333334, Val Loss: 0.4331034209620886, Val Acc: 0.863\n",
      "EarlyStopping counter: 9 out of 15\n",
      "Epoch 36, Train Loss: 0.21325118537996213, Train Acc: 0.9258888888888889, Val Loss: 0.44593124714093846, Val Acc: 0.8632\n",
      "EarlyStopping counter: 10 out of 15\n",
      "Epoch 37, Train Loss: 0.20821962095820237, Train Acc: 0.9275333333333333, Val Loss: 0.44860923043288553, Val Acc: 0.8648\n",
      "EarlyStopping counter: 11 out of 15\n",
      "Epoch 38, Train Loss: 0.2060061949392972, Train Acc: 0.9277333333333333, Val Loss: 0.4531090584265205, Val Acc: 0.8628\n",
      "EarlyStopping counter: 12 out of 15\n",
      "Epoch 39, Train Loss: 0.20785037762016306, Train Acc: 0.9286666666666666, Val Loss: 0.4903155883280233, Val Acc: 0.8562\n",
      "EarlyStopping counter: 13 out of 15\n",
      "Epoch 40, Train Loss: 0.2027986838169948, Train Acc: 0.9290222222222222, Val Loss: 0.4706488424144423, Val Acc: 0.8578\n",
      "EarlyStopping counter: 14 out of 15\n",
      "Epoch 41, Train Loss: 0.20264472513930748, Train Acc: 0.9300666666666667, Val Loss: 0.4477757212643425, Val Acc: 0.861\n",
      "EarlyStopping counter: 15 out of 15\n",
      "Early stopping\n",
      "Finished Training\n",
      "Accuracy of the network on the 10000 test images: 85.74 %\n"
     ]
    },
    {
     "name": "stderr",
     "output_type": "stream",
     "text": [
      "\u001b[34m\u001b[1mwandb\u001b[0m:                                                                                \n",
      "\u001b[34m\u001b[1mwandb\u001b[0m: \n",
      "\u001b[34m\u001b[1mwandb\u001b[0m: Run history:\n",
      "\u001b[34m\u001b[1mwandb\u001b[0m:  test_accuracy ▁\n",
      "\u001b[34m\u001b[1mwandb\u001b[0m: train_accuracy ▁▃▄▅▅▆▆▆▆▆▇▇▇▇▇▇▇▇▇▇▇███████████████████\n",
      "\u001b[34m\u001b[1mwandb\u001b[0m:     train_loss █▆▅▄▄▄▃▃▃▃▂▂▂▂▂▂▂▂▂▂▂▁▁▁▁▁▁▁▁▁▁▁▁▁▁▁▁▁▁▁\n",
      "\u001b[34m\u001b[1mwandb\u001b[0m:   val_accuracy ▁▃▅▅▆▆▇▇▇▇▇▇█▇▇█▇███████████████████████\n",
      "\u001b[34m\u001b[1mwandb\u001b[0m:       val_loss █▆▄▄▃▃▂▂▂▂▁▁▁▁▁▁▁▁▁▁▁▁▁▁▁▁▁▁▁▁▁▁▁▁▁▁▁▁▂▁\n",
      "\u001b[34m\u001b[1mwandb\u001b[0m: \n",
      "\u001b[34m\u001b[1mwandb\u001b[0m: Run summary:\n",
      "\u001b[34m\u001b[1mwandb\u001b[0m:  test_accuracy 85.74\n",
      "\u001b[34m\u001b[1mwandb\u001b[0m: train_accuracy 0.93007\n",
      "\u001b[34m\u001b[1mwandb\u001b[0m:     train_loss 0.20264\n",
      "\u001b[34m\u001b[1mwandb\u001b[0m:   val_accuracy 0.861\n",
      "\u001b[34m\u001b[1mwandb\u001b[0m:       val_loss 0.44778\n",
      "\u001b[34m\u001b[1mwandb\u001b[0m: \n",
      "\u001b[34m\u001b[1mwandb\u001b[0m: 🚀 View run \u001b[33mrural-field-29\u001b[0m at: \u001b[34m\u001b[4mhttps://wandb.ai/nagi-ovo/cifar10_classification/runs/5nymeh7g\u001b[0m\n",
      "\u001b[34m\u001b[1mwandb\u001b[0m: Synced 6 W&B file(s), 0 media file(s), 0 artifact file(s) and 0 other file(s)\n",
      "\u001b[34m\u001b[1mwandb\u001b[0m: Find logs at: \u001b[35m\u001b[1m./wandb/run-20240320_153145-5nymeh7g/logs\u001b[0m\n"
     ]
    }
   ],
   "source": [
    "main('cnn2', epochs=50)"
   ]
  },
  {
   "cell_type": "code",
   "execution_count": 14,
   "id": "0a1ae38a",
   "metadata": {
    "execution": {
     "iopub.execute_input": "2024-03-20T15:58:33.466046Z",
     "iopub.status.busy": "2024-03-20T15:58:33.465645Z",
     "iopub.status.idle": "2024-03-20T16:14:05.494069Z",
     "shell.execute_reply": "2024-03-20T16:14:05.492795Z"
    },
    "papermill": {
     "duration": 932.053107,
     "end_time": "2024-03-20T16:14:05.496766",
     "exception": false,
     "start_time": "2024-03-20T15:58:33.443659",
     "status": "completed"
    },
    "tags": []
   },
   "outputs": [
    {
     "name": "stdout",
     "output_type": "stream",
     "text": [
      "Files already downloaded and verified\n",
      "Files already downloaded and verified\n",
      "Files already downloaded and verified\n"
     ]
    },
    {
     "name": "stderr",
     "output_type": "stream",
     "text": [
      "\u001b[34m\u001b[1mwandb\u001b[0m: Tracking run with wandb version 0.16.4\n",
      "\u001b[34m\u001b[1mwandb\u001b[0m: Run data is saved locally in \u001b[35m\u001b[1m/kaggle/working/wandb/run-20240320_155836-l2ra0wjr\u001b[0m\n",
      "\u001b[34m\u001b[1mwandb\u001b[0m: Run \u001b[1m`wandb offline`\u001b[0m to turn off syncing.\n",
      "\u001b[34m\u001b[1mwandb\u001b[0m: Syncing run \u001b[33mwoven-lion-30\u001b[0m\n",
      "\u001b[34m\u001b[1mwandb\u001b[0m: ⭐️ View project at \u001b[34m\u001b[4mhttps://wandb.ai/nagi-ovo/cifar10_classification\u001b[0m\n",
      "\u001b[34m\u001b[1mwandb\u001b[0m: 🚀 View run at \u001b[34m\u001b[4mhttps://wandb.ai/nagi-ovo/cifar10_classification/runs/l2ra0wjr\u001b[0m\n"
     ]
    },
    {
     "name": "stdout",
     "output_type": "stream",
     "text": [
      "Epoch 1, Train Loss: 1.7165797447717532, Train Acc: 0.38822222222222225, Val Loss: 1.6469947543387977, Val Acc: 0.4198\n",
      "Epoch 2, Train Loss: 1.5547211299025627, Train Acc: 0.44837777777777776, Val Loss: 1.5794330549697144, Val Acc: 0.436\n",
      "Epoch 3, Train Loss: 1.4822777047981115, Train Acc: 0.4754, Val Loss: 1.6667548486599908, Val Acc: 0.4172\n",
      "EarlyStopping counter: 1 out of 15\n",
      "Epoch 4, Train Loss: 1.4362711231563594, Train Acc: 0.49264444444444444, Val Loss: 1.5407547695568193, Val Acc: 0.4544\n",
      "Epoch 5, Train Loss: 1.4014781934698832, Train Acc: 0.5041333333333333, Val Loss: 1.580287456322021, Val Acc: 0.4466\n",
      "EarlyStopping counter: 1 out of 15\n",
      "Epoch 6, Train Loss: 1.3721132180761113, Train Acc: 0.5110222222222223, Val Loss: 1.5333679116572054, Val Acc: 0.472\n",
      "Epoch 7, Train Loss: 1.3552488471704829, Train Acc: 0.5182888888888889, Val Loss: 1.4834576915628233, Val Acc: 0.4726\n",
      "Epoch 8, Train Loss: 1.3396490123447387, Train Acc: 0.5253555555555556, Val Loss: 1.4918890418336033, Val Acc: 0.4902\n",
      "EarlyStopping counter: 1 out of 15\n",
      "Epoch 9, Train Loss: 1.322705543638759, Train Acc: 0.5327111111111111, Val Loss: 1.5114668672458051, Val Acc: 0.4774\n",
      "EarlyStopping counter: 2 out of 15\n",
      "Epoch 10, Train Loss: 1.3058387453853555, Train Acc: 0.5400666666666667, Val Loss: 1.5913231210967602, Val Acc: 0.4642\n",
      "EarlyStopping counter: 3 out of 15\n",
      "Epoch 11, Train Loss: 1.294717842346826, Train Acc: 0.5439555555555555, Val Loss: 1.4694502184185356, Val Acc: 0.4822\n",
      "Epoch 12, Train Loss: 1.2810716775232391, Train Acc: 0.5468444444444445, Val Loss: 1.515019396242623, Val Acc: 0.493\n",
      "EarlyStopping counter: 1 out of 15\n",
      "Epoch 13, Train Loss: 1.2708385759534846, Train Acc: 0.5526222222222222, Val Loss: 1.5360231936549227, Val Acc: 0.4876\n",
      "EarlyStopping counter: 2 out of 15\n",
      "Epoch 14, Train Loss: 1.2622482776218065, Train Acc: 0.5579555555555555, Val Loss: 1.5088064204008815, Val Acc: 0.4874\n",
      "EarlyStopping counter: 3 out of 15\n",
      "Epoch 15, Train Loss: 1.2499915580498635, Train Acc: 0.5606888888888889, Val Loss: 1.4884069066839858, Val Acc: 0.4952\n",
      "EarlyStopping counter: 4 out of 15\n",
      "Epoch 16, Train Loss: 1.2404946403129644, Train Acc: 0.5625555555555556, Val Loss: 1.4896397902942693, Val Acc: 0.485\n",
      "EarlyStopping counter: 5 out of 15\n",
      "Epoch 17, Train Loss: 1.231150890017505, Train Acc: 0.5669555555555555, Val Loss: 1.4867453053355597, Val Acc: 0.5028\n",
      "EarlyStopping counter: 6 out of 15\n",
      "Epoch 18, Train Loss: 1.22103462843678, Train Acc: 0.5701777777777778, Val Loss: 1.5189542616137302, Val Acc: 0.4886\n",
      "EarlyStopping counter: 7 out of 15\n",
      "Epoch 19, Train Loss: 1.2178903659424916, Train Acc: 0.5712222222222222, Val Loss: 1.469146137801222, Val Acc: 0.4768\n",
      "Epoch 20, Train Loss: 1.2103765289363089, Train Acc: 0.5772666666666667, Val Loss: 1.5292460727996338, Val Acc: 0.4948\n",
      "EarlyStopping counter: 1 out of 15\n",
      "Epoch 21, Train Loss: 1.1962352906136253, Train Acc: 0.5779777777777778, Val Loss: 1.4810522463375007, Val Acc: 0.4908\n",
      "EarlyStopping counter: 2 out of 15\n",
      "Epoch 22, Train Loss: 1.1912211757027462, Train Acc: 0.5816444444444444, Val Loss: 1.499896639642624, Val Acc: 0.497\n",
      "EarlyStopping counter: 3 out of 15\n",
      "Epoch 23, Train Loss: 1.1859503489052576, Train Acc: 0.5811111111111111, Val Loss: 1.5084675400020977, Val Acc: 0.5056\n",
      "EarlyStopping counter: 4 out of 15\n",
      "Epoch 24, Train Loss: 1.1798353348386867, Train Acc: 0.5847111111111111, Val Loss: 1.4777033728913378, Val Acc: 0.5036\n",
      "EarlyStopping counter: 5 out of 15\n",
      "Epoch 25, Train Loss: 1.1695224222575817, Train Acc: 0.5893111111111111, Val Loss: 1.46674375069408, Val Acc: 0.5142\n",
      "Epoch 26, Train Loss: 1.1690890336223145, Train Acc: 0.5906444444444444, Val Loss: 1.5386034855827355, Val Acc: 0.5044\n",
      "EarlyStopping counter: 1 out of 15\n",
      "Epoch 27, Train Loss: 1.166547037425348, Train Acc: 0.5903333333333334, Val Loss: 1.4762392004077045, Val Acc: 0.5088\n",
      "EarlyStopping counter: 2 out of 15\n",
      "Epoch 28, Train Loss: 1.1560744669591665, Train Acc: 0.5938666666666667, Val Loss: 1.5208151692780443, Val Acc: 0.5082\n",
      "EarlyStopping counter: 3 out of 15\n",
      "Epoch 29, Train Loss: 1.1545905891767483, Train Acc: 0.5922888888888889, Val Loss: 1.5049833918151003, Val Acc: 0.499\n",
      "EarlyStopping counter: 4 out of 15\n",
      "Epoch 30, Train Loss: 1.1490743049005576, Train Acc: 0.5939333333333333, Val Loss: 1.5028309705920113, Val Acc: 0.4988\n",
      "EarlyStopping counter: 5 out of 15\n",
      "Epoch 31, Train Loss: 1.1393624373784152, Train Acc: 0.6016444444444444, Val Loss: 1.4746411141876976, Val Acc: 0.5022\n",
      "EarlyStopping counter: 6 out of 15\n",
      "Epoch 32, Train Loss: 1.1388487136325842, Train Acc: 0.6015555555555555, Val Loss: 1.5023893028402482, Val Acc: 0.5154\n",
      "EarlyStopping counter: 7 out of 15\n",
      "Epoch 33, Train Loss: 1.1339502181186398, Train Acc: 0.6003111111111111, Val Loss: 1.5016295031998486, Val Acc: 0.5032\n",
      "EarlyStopping counter: 8 out of 15\n",
      "Epoch 34, Train Loss: 1.138454022301163, Train Acc: 0.6005111111111111, Val Loss: 1.4913399021465557, Val Acc: 0.5038\n",
      "EarlyStopping counter: 9 out of 15\n",
      "Epoch 35, Train Loss: 1.1318486452081473, Train Acc: 0.6038666666666667, Val Loss: 1.4858595018569654, Val Acc: 0.5152\n",
      "EarlyStopping counter: 10 out of 15\n",
      "Epoch 36, Train Loss: 1.1226032181668442, Train Acc: 0.6047111111111111, Val Loss: 1.4579173722587073, Val Acc: 0.5212\n",
      "Epoch 37, Train Loss: 1.1165403370814013, Train Acc: 0.6084444444444445, Val Loss: 1.5137022705123828, Val Acc: 0.5046\n",
      "EarlyStopping counter: 1 out of 15\n",
      "Epoch 38, Train Loss: 1.1153259657580277, Train Acc: 0.6050444444444445, Val Loss: 1.4870070160006563, Val Acc: 0.5092\n",
      "EarlyStopping counter: 2 out of 15\n",
      "Epoch 39, Train Loss: 1.1156518727360862, Train Acc: 0.6085333333333334, Val Loss: 1.528761140073831, Val Acc: 0.5002\n",
      "EarlyStopping counter: 3 out of 15\n",
      "Epoch 40, Train Loss: 1.1144525190392212, Train Acc: 0.6092666666666666, Val Loss: 1.4994208660369484, Val Acc: 0.5026\n",
      "EarlyStopping counter: 4 out of 15\n",
      "Epoch 41, Train Loss: 1.1089619599412524, Train Acc: 0.6124666666666667, Val Loss: 1.525762971216878, Val Acc: 0.5106\n",
      "EarlyStopping counter: 5 out of 15\n",
      "Epoch 42, Train Loss: 1.1085351132388814, Train Acc: 0.6102666666666666, Val Loss: 1.482204313857106, Val Acc: 0.5134\n",
      "EarlyStopping counter: 6 out of 15\n",
      "Epoch 43, Train Loss: 1.099344196059591, Train Acc: 0.6148444444444444, Val Loss: 1.4807091225831273, Val Acc: 0.525\n",
      "EarlyStopping counter: 7 out of 15\n",
      "Epoch 44, Train Loss: 1.0919786443224675, Train Acc: 0.6174444444444445, Val Loss: 1.5529806522515635, Val Acc: 0.499\n",
      "EarlyStopping counter: 8 out of 15\n",
      "Epoch 45, Train Loss: 1.086875402499381, Train Acc: 0.6160666666666667, Val Loss: 1.4882209158172242, Val Acc: 0.5146\n",
      "EarlyStopping counter: 9 out of 15\n",
      "Epoch 46, Train Loss: 1.0916472454851647, Train Acc: 0.6143777777777778, Val Loss: 1.4656171155052062, Val Acc: 0.5148\n",
      "EarlyStopping counter: 10 out of 15\n",
      "Epoch 47, Train Loss: 1.0883542214885455, Train Acc: 0.6171777777777778, Val Loss: 1.4586793353763252, Val Acc: 0.519\n",
      "EarlyStopping counter: 11 out of 15\n",
      "Epoch 48, Train Loss: 1.0818542722086868, Train Acc: 0.6195111111111111, Val Loss: 1.5578185683622148, Val Acc: 0.5114\n",
      "EarlyStopping counter: 12 out of 15\n",
      "Epoch 49, Train Loss: 1.0888204491418152, Train Acc: 0.6184, Val Loss: 1.4669964136407017, Val Acc: 0.5194\n",
      "EarlyStopping counter: 13 out of 15\n",
      "Epoch 50, Train Loss: 1.079454673897148, Train Acc: 0.6220888888888889, Val Loss: 1.5055311246040148, Val Acc: 0.5076\n",
      "EarlyStopping counter: 14 out of 15\n",
      "Finished Training\n",
      "Accuracy of the network on the 10000 test images: 52.26 %\n"
     ]
    },
    {
     "name": "stderr",
     "output_type": "stream",
     "text": [
      "\u001b[34m\u001b[1mwandb\u001b[0m:                                                                                \n",
      "\u001b[34m\u001b[1mwandb\u001b[0m: \n",
      "\u001b[34m\u001b[1mwandb\u001b[0m: Run history:\n",
      "\u001b[34m\u001b[1mwandb\u001b[0m:  test_accuracy ▁\n",
      "\u001b[34m\u001b[1mwandb\u001b[0m: train_accuracy ▁▃▄▄▅▅▅▅▆▆▆▆▆▆▆▆▇▇▇▇▇▇▇▇▇▇▇▇▇█▇█████████\n",
      "\u001b[34m\u001b[1mwandb\u001b[0m:     train_loss █▆▅▅▄▄▄▄▃▃▃▃▃▃▃▃▂▂▂▂▂▂▂▂▂▂▂▂▁▁▁▁▁▁▁▁▁▁▁▁\n",
      "\u001b[34m\u001b[1mwandb\u001b[0m:   val_accuracy ▁▂▁▃▅▅▆▅▅▆▆▆▅▇▆▅▆▆▇▇▇▇▇▆▇▇▇▇█▇▇▆▇▇█▆▇█▇▇\n",
      "\u001b[34m\u001b[1mwandb\u001b[0m:       val_loss ▇▅█▄▄▂▂▃▁▃▄▃▂▂▃▁▂▂▃▂▄▂▃▃▂▂▂▂▁▃▂▃▃▂▂▄▁▁▄▃\n",
      "\u001b[34m\u001b[1mwandb\u001b[0m: \n",
      "\u001b[34m\u001b[1mwandb\u001b[0m: Run summary:\n",
      "\u001b[34m\u001b[1mwandb\u001b[0m:  test_accuracy 52.26\n",
      "\u001b[34m\u001b[1mwandb\u001b[0m: train_accuracy 0.62209\n",
      "\u001b[34m\u001b[1mwandb\u001b[0m:     train_loss 1.07945\n",
      "\u001b[34m\u001b[1mwandb\u001b[0m:   val_accuracy 0.5076\n",
      "\u001b[34m\u001b[1mwandb\u001b[0m:       val_loss 1.50553\n",
      "\u001b[34m\u001b[1mwandb\u001b[0m: \n",
      "\u001b[34m\u001b[1mwandb\u001b[0m: 🚀 View run \u001b[33mwoven-lion-30\u001b[0m at: \u001b[34m\u001b[4mhttps://wandb.ai/nagi-ovo/cifar10_classification/runs/l2ra0wjr\u001b[0m\n",
      "\u001b[34m\u001b[1mwandb\u001b[0m: Synced 6 W&B file(s), 0 media file(s), 0 artifact file(s) and 0 other file(s)\n",
      "\u001b[34m\u001b[1mwandb\u001b[0m: Find logs at: \u001b[35m\u001b[1m./wandb/run-20240320_155836-l2ra0wjr/logs\u001b[0m\n"
     ]
    }
   ],
   "source": [
    "main('mlp', epochs=50)"
   ]
  },
  {
   "cell_type": "code",
   "execution_count": 15,
   "id": "86c45fd2",
   "metadata": {
    "execution": {
     "iopub.execute_input": "2024-03-20T16:14:05.551760Z",
     "iopub.status.busy": "2024-03-20T16:14:05.551073Z",
     "iopub.status.idle": "2024-03-20T16:14:05.555586Z",
     "shell.execute_reply": "2024-03-20T16:14:05.554738Z"
    },
    "papermill": {
     "duration": 0.033873,
     "end_time": "2024-03-20T16:14:05.557561",
     "exception": false,
     "start_time": "2024-03-20T16:14:05.523688",
     "status": "completed"
    },
    "tags": []
   },
   "outputs": [],
   "source": [
    "# main('cnn')"
   ]
  }
 ],
 "metadata": {
  "kaggle": {
   "accelerator": "gpu",
   "dataSources": [],
   "dockerImageVersionId": 30665,
   "isGpuEnabled": true,
   "isInternetEnabled": true,
   "language": "python",
   "sourceType": "notebook"
  },
  "kernelspec": {
   "display_name": "Python 3",
   "language": "python",
   "name": "python3"
  },
  "language_info": {
   "codemirror_mode": {
    "name": "ipython",
    "version": 3
   },
   "file_extension": ".py",
   "mimetype": "text/x-python",
   "name": "python",
   "nbconvert_exporter": "python",
   "pygments_lexer": "ipython3",
   "version": "3.10.13"
  },
  "papermill": {
   "default_parameters": {},
   "duration": 2601.209118,
   "end_time": "2024-03-20T16:14:08.261076",
   "environment_variables": {},
   "exception": null,
   "input_path": "__notebook__.ipynb",
   "output_path": "__notebook__.ipynb",
   "parameters": {},
   "start_time": "2024-03-20T15:30:47.051958",
   "version": "2.5.0"
  }
 },
 "nbformat": 4,
 "nbformat_minor": 5
}
